{
 "cells": [
  {
   "cell_type": "code",
   "execution_count": 3,
   "metadata": {
    "collapsed": false
   },
   "outputs": [
    {
     "name": "stdout",
     "output_type": "stream",
     "text": [
      "['', '/Users/joaogabriellima/anaconda/lib/python36.zip', '/Users/joaogabriellima/anaconda/lib/python3.6', '/Users/joaogabriellima/anaconda/lib/python3.6/lib-dynload', '/Users/joaogabriellima/anaconda/lib/python3.6/site-packages', '/Users/joaogabriellima/anaconda/lib/python3.6/site-packages/Sphinx-1.5.1-py3.6.egg', '/Users/joaogabriellima/anaconda/lib/python3.6/site-packages/aeosa', '/Users/joaogabriellima/anaconda/lib/python3.6/site-packages/IPython/extensions', '/Users/joaogabriellima/.ipython']\n"
     ]
    }
   ],
   "source": [
    "import sys\n",
    "print(sys.path)"
   ]
  },
  {
   "cell_type": "code",
   "execution_count": null,
   "metadata": {
    "collapsed": true
   },
   "outputs": [],
   "source": []
  }
 ],
 "metadata": {
  "kernelspec": {
   "display_name": "Python 3",
   "language": "python",
   "name": "python3"
  },
  "language_info": {
   "codemirror_mode": {
    "name": "ipython",
    "version": 3
   },
   "file_extension": ".py",
   "mimetype": "text/x-python",
   "name": "python",
   "nbconvert_exporter": "python",
   "pygments_lexer": "ipython3",
   "version": "3.6.0"
  }
 },
 "nbformat": 4,
 "nbformat_minor": 2
}
