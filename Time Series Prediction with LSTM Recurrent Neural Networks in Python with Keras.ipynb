{
 "cells": [
  {
   "cell_type": "markdown",
   "metadata": {},
   "source": [
    "Nesta publicação, você descobrirá como desenvolver redes LSTM em Python usando a biblioteca de aprendizagem profunda da Keras para abordar um problema de previsão de séries temporais de demonstração.\n",
    "\n",
    "Depois de completar este tutorial, você saberá como implementar e desenvolver redes LSTM para seus próprios problemas de previsão de séries temporais e outros problemas de seqüência mais gerais. Você saberá:\n",
    "\n",
    "Sobre o problema de previsão de séries temporais da International Airline Passengers.\n",
    "Como desenvolver redes LSTM para sistemas de regressão, janelas e tempos baseados em etapas de problemas de previsão de séries temporais.\n",
    "Como desenvolver e fazer previsões usando redes LSTM que mantenham estado (memória) em sequências muito longas.\n",
    "Neste tutorial, desenvolveremos uma série de LSTMs para um problema de previsão de séries temporais padrão.\n"
   ]
  },
  {
   "cell_type": "code",
   "execution_count": null,
   "metadata": {
    "collapsed": true
   },
   "outputs": [],
   "source": []
  }
 ],
 "metadata": {
  "kernelspec": {
   "display_name": "Python 3",
   "language": "python",
   "name": "python3"
  },
  "language_info": {
   "codemirror_mode": {
    "name": "ipython",
    "version": 3
   },
   "file_extension": ".py",
   "mimetype": "text/x-python",
   "name": "python",
   "nbconvert_exporter": "python",
   "pygments_lexer": "ipython3",
   "version": "3.6.0"
  }
 },
 "nbformat": 4,
 "nbformat_minor": 2
}
