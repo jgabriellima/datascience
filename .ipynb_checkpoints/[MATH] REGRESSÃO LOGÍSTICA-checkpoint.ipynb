{
 "cells": [
  {
   "cell_type": "markdown",
   "metadata": {},
   "source": [
    "# REGRESSÃO LOGÍSTICA"
   ]
  },
  {
   "cell_type": "markdown",
   "metadata": {},
   "source": [
    "A regressão logística é nomeada para a função utilizada no núcleo do método, a função logística. Na regressão linear, o resultado (variável dependente) é contínuo. Pode ter qualquer um de um número infinito de valores possíveis. Na regressão logística, o resultado (variável dependente) tem apenas um número limitado de valores possíveis. A regressão logística é usada quando a variável de resposta é de natureza categórica.\n",
    "\n",
    "A função logística, também chamada de função sigmoide, é uma curva em forma de S que pode levar qualquer número de valor real e mapeá-lo em um valor entre 0 e 1, mas nunca exatamente nesses limites."
   ]
  },
  {
   "cell_type": "markdown",
   "metadata": {},
   "source": [
    "<img src=\"https://camo.githubusercontent.com/0346e37d418dbb3fcd064c3374ea88e9ec7c8026/68747470733a2f2f696d6167652e736c696465736861726563646e2e636f6d2f696863636c6f67697374696372656772657373696f6e2d3133303732383036313733332d70687061707030322f39352f6c6f6769737469632d72656772657373696f6e2d696e2d63617365636f6e74726f6c2d73747564792d31342d3633382e6a70673f63623d31333734393932333635\"/>"
   ]
  },
  {
   "cell_type": "markdown",
   "metadata": {},
   "source": [
    "A previsão de probabilidade deve ser transformada em valores binários (0 ou 1) para efetivamente fazer uma previsão de probabilidade. A regressão logística é um método linear, mas as previsões são transformadas usando a função logística. \n",
    "\n",
    "O impacto disso é que não podemos mais entender as previsões como uma combinação linear das entradas como podemos com a regressão linear.\n",
    "\n",
    "Aguarde, como é calculada a função de limite? Bem, queremos maximizar a probabilidade de um ponto de dados aleatório ser classificado corretamente. Chamamos essa estimativa de máxima probabilidade.\n",
    "\n",
    "A estimativa de máxima verossimilhança é uma abordagem geral para estimar parâmetros em modelos estatísticos, maximizando a função de verossimilhança. O MLE aplicado a redes profundas recebe um nome especial \"Backpropagation\"."
   ]
  },
  {
   "cell_type": "code",
   "execution_count": 1,
   "metadata": {
    "collapsed": true
   },
   "outputs": [],
   "source": [
    "%matplotlib inline\n",
    "\n",
    "#matrix math\n",
    "import numpy as np\n",
    "#data manipulation\n",
    "import pandas as pd\n",
    "#matrix data structure\n",
    "from patsy import dmatrices\n",
    "#for error logging\n",
    "import warnings"
   ]
  },
  {
   "cell_type": "markdown",
   "metadata": {},
   "source": [
    "# Parametrização / Configuração de dados"
   ]
  },
  {
   "cell_type": "code",
   "execution_count": 2,
   "metadata": {
    "collapsed": true
   },
   "outputs": [],
   "source": [
    "#Mostra a probabilidade entre 0 e 1, usado para ajudar a definir nossa curva de regressão logística\n",
    "def sigmoid(x):\n",
    "    '''Sigmoid function of x.'''\n",
    "    return 1/(1+np.exp(-x))"
   ]
  },
  {
   "cell_type": "markdown",
   "metadata": {},
   "source": [
    "Faz com que os números aleatórios sejam previsíveis\n",
    "Os números aleatórios (pseudo-) funcionam começando com um número (a semente), multiplicando-o por um grande número, em seguida, tomando o módulo desse produto.\n",
    "\n",
    "O número resultante é então usado como a semente para gerar o próximo número \"aleatório\".\n",
    "\n",
    "Quando você define a SEED (toda vez), faz a mesma coisa toda vez, dando-lhe os mesmos números. \n",
    "\n",
    "Bom para reproduzir resultados para depuração"
   ]
  },
  {
   "cell_type": "code",
   "execution_count": 3,
   "metadata": {
    "collapsed": true
   },
   "outputs": [],
   "source": [
    "np.random.seed(0)"
   ]
  },
  {
   "cell_type": "markdown",
   "metadata": {},
   "source": [
    "## Passo 1 - Definir parâmetros do modelo (hiperparâmetros) "
   ]
  },
  {
   "cell_type": "code",
   "execution_count": 6,
   "metadata": {
    "collapsed": true
   },
   "outputs": [],
   "source": [
    "# Configurações do algoritmo\n",
    "# ============================\n",
    "# O limite mínimo para a diferença entre a saída prevista e a saída real\n",
    "# Isso diz ao nosso modelo quando parar de aprender, quando nossa capacidade de previsão é boa o suficiente\n",
    "tol = 1e-8 # tolerância de convergência"
   ]
  },
  {
   "cell_type": "code",
   "execution_count": 8,
   "metadata": {
    "collapsed": false
   },
   "outputs": [],
   "source": [
    "# Regularização L2 \n",
    "lam = None \n",
    "\n",
    "# máximo de iterações permitidas\n",
    "max_iter = 20 "
   ]
  },
  {
   "cell_type": "code",
   "execution_count": 9,
   "metadata": {
    "collapsed": true
   },
   "outputs": [],
   "source": [
    "## Configurações de criação de dados\n",
    "\n",
    "# Covariância mede como duas variáveis se movem juntas.\n",
    "# ===========================================================================\n",
    "# Meta se os dois se movem na mesma direção (uma covariância positiva)\n",
    "# Ou em direções opostas (uma covariância negativa).\n",
    "\n",
    "# Covariância entre x e z\n",
    "r = 0.95 \n",
    "\n",
    "# Número de observações (tamanho do conjunto de dados a gerar)\n",
    "n = 1000 \n",
    "\n",
    "# Variação de ruído - como se espalham os dados?\n",
    "sigma = 1 "
   ]
  },
  {
   "cell_type": "code",
   "execution_count": 18,
   "metadata": {
    "collapsed": true
   },
   "outputs": [],
   "source": [
    "## Configurações do modelo\n",
    "\n",
    "# Coeficientes beta reais\n",
    "beta_x, beta_z, beta_v = -4, .9, 1 \n",
    "\n",
    "# Variações de entradas\n",
    "var_x, var_z, var_v = 1, 1, 4 \n",
    "\n",
    "## A especificação do modelo que deseja ajustar\n",
    "formula = 'y ~ x + z + v + np.exp (x) + I (v ** 2 + z)'"
   ]
  },
  {
   "cell_type": "markdown",
   "metadata": {},
   "source": [
    "## Passo 2 - Gerar e organizar nossos dados"
   ]
  },
  {
   "cell_type": "markdown",
   "metadata": {},
   "source": [
    "A distribuição multivariada normal, multinormal ou gaussiana é uma generalização do normal unidimensional distribuição para dimensões superiores. Essa distribuição é especificada pela sua matriz média e covariante.\n",
    "\n",
    "So geramos valores valores de entrada - (x, v, z) usando distribuições normais"
   ]
  },
  {
   "cell_type": "markdown",
   "metadata": {},
   "source": [
    "A distribuição de probabilidade é uma função que nos proporciona as probabilidades de todos postos possíveis de um processo estocástico.\n"
   ]
  },
  {
   "cell_type": "code",
   "execution_count": 20,
   "metadata": {
    "collapsed": false
   },
   "outputs": [
    {
     "name": "stderr",
     "output_type": "stream",
     "text": [
      "/Users/joaogabriellima/anaconda/lib/python3.6/site-packages/ipykernel/__main__.py:4: RuntimeWarning: overflow encountered in exp\n"
     ]
    },
    {
     "data": {
      "text/html": [
       "<div>\n",
       "<style>\n",
       "    .dataframe thead tr:only-child th {\n",
       "        text-align: right;\n",
       "    }\n",
       "\n",
       "    .dataframe thead th {\n",
       "        text-align: left;\n",
       "    }\n",
       "\n",
       "    .dataframe tbody tr th {\n",
       "        vertical-align: top;\n",
       "    }\n",
       "</style>\n",
       "<table border=\"1\" class=\"dataframe\">\n",
       "  <thead>\n",
       "    <tr style=\"text-align: right;\">\n",
       "      <th></th>\n",
       "      <th>Intercept</th>\n",
       "      <th>x</th>\n",
       "      <th>z</th>\n",
       "      <th>v</th>\n",
       "      <th>np.exp(x)</th>\n",
       "      <th>I(v ** 2 + z)</th>\n",
       "    </tr>\n",
       "  </thead>\n",
       "  <tbody>\n",
       "    <tr>\n",
       "      <th>0</th>\n",
       "      <td>1.0</td>\n",
       "      <td>-1.611418</td>\n",
       "      <td>-1.566192</td>\n",
       "      <td>15.613483</td>\n",
       "      <td>0.199604</td>\n",
       "      <td>242.214667</td>\n",
       "    </tr>\n",
       "    <tr>\n",
       "      <th>1</th>\n",
       "      <td>1.0</td>\n",
       "      <td>-0.080909</td>\n",
       "      <td>0.085959</td>\n",
       "      <td>42.720111</td>\n",
       "      <td>0.922278</td>\n",
       "      <td>1825.093814</td>\n",
       "    </tr>\n",
       "    <tr>\n",
       "      <th>2</th>\n",
       "      <td>1.0</td>\n",
       "      <td>0.297531</td>\n",
       "      <td>0.142110</td>\n",
       "      <td>3.530885</td>\n",
       "      <td>1.346531</td>\n",
       "      <td>12.609259</td>\n",
       "    </tr>\n",
       "    <tr>\n",
       "      <th>3</th>\n",
       "      <td>1.0</td>\n",
       "      <td>1.412771</td>\n",
       "      <td>1.734809</td>\n",
       "      <td>-57.235945</td>\n",
       "      <td>4.107323</td>\n",
       "      <td>3277.688187</td>\n",
       "    </tr>\n",
       "    <tr>\n",
       "      <th>4</th>\n",
       "      <td>1.0</td>\n",
       "      <td>0.204214</td>\n",
       "      <td>-0.302335</td>\n",
       "      <td>-0.074792</td>\n",
       "      <td>1.226561</td>\n",
       "      <td>-0.296741</td>\n",
       "    </tr>\n",
       "    <tr>\n",
       "      <th>5</th>\n",
       "      <td>1.0</td>\n",
       "      <td>1.515413</td>\n",
       "      <td>2.075660</td>\n",
       "      <td>-74.190590</td>\n",
       "      <td>4.551301</td>\n",
       "      <td>5506.319245</td>\n",
       "    </tr>\n",
       "    <tr>\n",
       "      <th>6</th>\n",
       "      <td>1.0</td>\n",
       "      <td>-1.122694</td>\n",
       "      <td>-1.001452</td>\n",
       "      <td>-115.449743</td>\n",
       "      <td>0.325402</td>\n",
       "      <td>13327.641761</td>\n",
       "    </tr>\n",
       "    <tr>\n",
       "      <th>7</th>\n",
       "      <td>1.0</td>\n",
       "      <td>1.490410</td>\n",
       "      <td>1.406678</td>\n",
       "      <td>203.717128</td>\n",
       "      <td>4.438913</td>\n",
       "      <td>41502.075078</td>\n",
       "    </tr>\n",
       "    <tr>\n",
       "      <th>8</th>\n",
       "      <td>1.0</td>\n",
       "      <td>1.076719</td>\n",
       "      <td>0.961474</td>\n",
       "      <td>18.996406</td>\n",
       "      <td>2.935033</td>\n",
       "      <td>361.824934</td>\n",
       "    </tr>\n",
       "    <tr>\n",
       "      <th>9</th>\n",
       "      <td>1.0</td>\n",
       "      <td>0.328823</td>\n",
       "      <td>0.099469</td>\n",
       "      <td>0.001091</td>\n",
       "      <td>1.389332</td>\n",
       "      <td>0.099470</td>\n",
       "    </tr>\n",
       "  </tbody>\n",
       "</table>\n",
       "</div>"
      ],
      "text/plain": [
       "   Intercept         x         z           v  np.exp(x)  I(v ** 2 + z)\n",
       "0        1.0 -1.611418 -1.566192   15.613483   0.199604     242.214667\n",
       "1        1.0 -0.080909  0.085959   42.720111   0.922278    1825.093814\n",
       "2        1.0  0.297531  0.142110    3.530885   1.346531      12.609259\n",
       "3        1.0  1.412771  1.734809  -57.235945   4.107323    3277.688187\n",
       "4        1.0  0.204214 -0.302335   -0.074792   1.226561      -0.296741\n",
       "5        1.0  1.515413  2.075660  -74.190590   4.551301    5506.319245\n",
       "6        1.0 -1.122694 -1.001452 -115.449743   0.325402   13327.641761\n",
       "7        1.0  1.490410  1.406678  203.717128   4.438913   41502.075078\n",
       "8        1.0  1.076719  0.961474   18.996406   2.935033     361.824934\n",
       "9        1.0  0.328823  0.099469    0.001091   1.389332       0.099470"
      ]
     },
     "execution_count": 20,
     "metadata": {},
     "output_type": "execute_result"
    }
   ],
   "source": [
    "\n",
    "# manter x e z intimamente relacionados (altura e peso)\n",
    "x, z = np.random.multivariate_normal([0,0], [[var_x,r],[r,var_z]], n).T\n",
    "#pressão sanguínea\n",
    "v = np.random.normal (0, var_v, n) ** 3\n",
    "\n",
    "# Crie um banco de dados de pandas (objeto facilmente analisável para manipulação)\n",
    "A = pd.DataFrame ({'x': x, 'z': z, 'v': v})\n",
    "\n",
    "#Computar as probabilidades de log para nossas 3 variáveis **independentes\n",
    "#Usando a função sigmoid\n",
    "A['log_odds'] = sigmoid (A[['x','z','v']].dot([beta_x, beta_z, beta_v]) + sigma * np.random.normal(0,1, n ))\n",
    "\n",
    "# Computa a amostra de probabilidade da distribuição binomial\n",
    "# Uma variável aleatória binomial é o número de sucessos x em n testes repetidos de uma experiência binomial.\n",
    "# A distribuição de probabilidade de uma variável aleatória binomial é chamada de distribuição binomial.\n",
    "A['y'] = [np.random.binomial(1, p) for p in A.log_odds]\n",
    "\n",
    "# Crie um quadro de dados que abrange nossos dados de entrada, fórmula do modelo e saídas\n",
    "y, X = dmatrices (formula, A, return_type = 'dataframe')\n",
    "\n",
    "#imprime-o\n",
    "X.head(10)"
   ]
  },
  {
   "cell_type": "markdown",
   "metadata": {},
   "source": [
    "# Configuração do Algoritmo"
   ]
  },
  {
   "cell_type": "markdown",
   "metadata": {},
   "source": [
    "Começamos com uma função rápida para capturar erros de matriz singulares que usaremos para decorar nossos passos de Newton.\n"
   ]
  },
  {
   "cell_type": "code",
   "execution_count": 21,
   "metadata": {
    "collapsed": true
   },
   "outputs": [],
   "source": [
    "#like dividing by zero (Wtff omgggggg universe collapses)\n",
    "def catch_singularity(f):\n",
    "    '''Silences LinAlg Errors and throws a warning instead.'''\n",
    "    \n",
    "    def silencer(*args, **kwargs):\n",
    "        try:\n",
    "            return f(*args, **kwargs)\n",
    "        except np.linalg.LinAlgError:\n",
    "            warnings.warn('Algorithm terminated - singular Hessian!')\n",
    "            return args[0]\n",
    "    return silencer"
   ]
  },
  {
   "cell_type": "markdown",
   "metadata": {},
   "source": [
    "Abaixo, implementamos um único passo do método de Newton e calculamos  usando np.linalg.lstsq (A, b) para resolver a equação. Observe que isso não exige que nós calculemos o inverso real do Hessian."
   ]
  },
  {
   "cell_type": "code",
   "execution_count": 22,
   "metadata": {
    "collapsed": true
   },
   "outputs": [],
   "source": [
    "@catch_singularity\n",
    "def newton_step(curr, X, lam=None):\n",
    "    '''One naive step of Newton's Method'''\n",
    "    \n",
    "    ## computar objetos necessários\n",
    "    # Crie matriz de probabilidade, mínimo 2 dimensões, transponha (flip it)\n",
    "    p = np.array(sigmoid(X.dot(curr[:,0])), ndmin=2).T\n",
    "    # Crie matriz de peso a partir dele\n",
    "    W = np.diag((p*(1-p))[:,0])\n",
    "    # Derivar o hessian\n",
    "    hessian = X.T.dot(W).dot(X)\n",
    "    # Derivar o gradiente\n",
    "    grad = X.T.dot(y-p)\n",
    "    ## Passo de regularização (evitando a sobreposição)\n",
    "    if lam:\n",
    "        # Retornar a solução de mínimos quadrados para uma equação de matriz linear\n",
    "        step, *_ = np.linalg.lstsq(hessian + lam*np.eye(curr.shape[0]), grad)\n",
    "    else:\n",
    "        step, *_ = np.linalg.lstsq(hessian, grad)\n",
    "        \n",
    "    ## update \n",
    "    beta = curr + step\n",
    "    \n",
    "    return beta"
   ]
  },
  {
   "cell_type": "markdown",
   "metadata": {},
   "source": [
    "## Configuração de Convergência"
   ]
  },
  {
   "cell_type": "markdown",
   "metadata": {},
   "source": [
    "Primeiro implementamos a convergência de coeficientes"
   ]
  },
  {
   "cell_type": "code",
   "execution_count": 25,
   "metadata": {
    "collapsed": true
   },
   "outputs": [],
   "source": [
    "def check_coefs_convergence(beta_old, beta_new, tol, iters):\n",
    "    '''Verifica se os coeficientes convergiram na norma l-infinito.\n",
    "     Retorna True se eles convergiram, Falso caso contrário.'''\n",
    "    # Calcular a variação dos coeficientes\n",
    "    coef_change = np.abs(beta_old - beta_new)\n",
    "    \n",
    "    # Se a mudança não atingiu o limiar e temos mais iterações para ir, continue treinando\n",
    "    return not (np.any(coef_change>tol) & (iters < max_iter))"
   ]
  },
  {
   "cell_type": "markdown",
   "metadata": {},
   "source": [
    "## Newton com convergência de coeficiente"
   ]
  },
  {
   "cell_type": "code",
   "execution_count": 26,
   "metadata": {
    "collapsed": false
   },
   "outputs": [
    {
     "name": "stdout",
     "output_type": "stream",
     "text": [
      "Iterations : 19\n",
      "Beta : [[  2.51105854e+31]\n",
      " [  4.72267452e+30]\n",
      " [ -4.19417010e+30]\n",
      " [  8.90225261e+30]\n",
      " [ -2.72506647e+31]\n",
      " [  6.38056846e+30]]\n"
     ]
    },
    {
     "name": "stderr",
     "output_type": "stream",
     "text": [
      "/Users/joaogabriellima/anaconda/lib/python3.6/site-packages/ipykernel/__main__.py:4: RuntimeWarning: overflow encountered in exp\n"
     ]
    }
   ],
   "source": [
    "## condições iniciais\n",
    "# Coeficientes iniciais (valores de peso), 2 cópias, vamos atualizar um\n",
    "beta_old, beta = np.ones((len(X.columns),1)), np.zeros((len(X.columns),1))\n",
    "\n",
    "# Várias iterações que fizemos até agora\n",
    "iter_count = 0\n",
    "# Alcançamos a convergência?\n",
    "coefs_converged = False\n",
    "\n",
    "# Se não alcançarmos a convergência ... (etapa de treinamento)\n",
    "while not coefs_converged:\n",
    "    \n",
    "    # Definir os coeficientes antigos para a nossa atual\n",
    "    beta_old = beta\n",
    "    # Realize um único passo da otimização do newton em nossos dados, configure nossos valores beta atualizados\n",
    "    beta = newton_step(beta, X, lam=lam)\n",
    "    # Incrementar o número de iterações\n",
    "    iter_count += 1\n",
    "    \n",
    "    # Verifique a convergência entre nossos valores beta antigos e novos\n",
    "    coefs_converged = check_coefs_convergence(beta_old, beta, tol, iter_count)\n",
    "    \n",
    "print('Interações : {}'.format(iter_count))\n",
    "print('Beta : {}'.format(beta))"
   ]
  },
  {
   "cell_type": "code",
   "execution_count": null,
   "metadata": {
    "collapsed": true
   },
   "outputs": [],
   "source": []
  }
 ],
 "metadata": {
  "kernelspec": {
   "display_name": "Python 3",
   "language": "python",
   "name": "python3"
  },
  "language_info": {
   "codemirror_mode": {
    "name": "ipython",
    "version": 3
   },
   "file_extension": ".py",
   "mimetype": "text/x-python",
   "name": "python",
   "nbconvert_exporter": "python",
   "pygments_lexer": "ipython3",
   "version": "3.6.0"
  }
 },
 "nbformat": 4,
 "nbformat_minor": 2
}
