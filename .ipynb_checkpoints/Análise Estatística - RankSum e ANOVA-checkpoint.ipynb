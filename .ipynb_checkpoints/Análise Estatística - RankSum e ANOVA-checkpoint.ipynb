{
 "cells": [
  {
   "cell_type": "markdown",
   "metadata": {},
   "source": [
    "# Análise Estatística - RankSum e ANOVA"
   ]
  },
  {
   "cell_type": "markdown",
   "metadata": {
    "collapsed": true
   },
   "source": [
    "Nesta seção, apresentamos alguns métodos úteis para analisar seus dados em Python. Será mostrado como calcular a média, variância e erro padrão de um conjunto de dados. \n",
    "\n",
    "Para uma análise estatística mais avançada, cobrimos como realizar um teste RankSum de Mann-Whitney-Wilcoxon (MWW), como realizar uma análise de variância (ANOVA) entre vários conjuntos de dados e como calcular intervalos de confiança de inicialização de 95% para conjuntos de dados não normais\n"
   ]
  },
  {
   "cell_type": "markdown",
   "metadata": {},
   "source": [
    "https://docs.scipy.org/doc/scipy/reference/tutorial/stats.html"
   ]
  },
  {
   "cell_type": "markdown",
   "metadata": {},
   "source": [
    "DataFrames são úteis para quando você precisa calcular estatísticas em várias execuções replicadas."
   ]
  },
  {
   "cell_type": "code",
   "execution_count": 17,
   "metadata": {
    "collapsed": false
   },
   "outputs": [
    {
     "data": {
      "text/html": [
       "<div>\n",
       "<table border=\"1\" class=\"dataframe\">\n",
       "  <thead>\n",
       "    <tr style=\"text-align: right;\">\n",
       "      <th></th>\n",
       "      <th>Virulence</th>\n",
       "      <th>Replicate</th>\n",
       "      <th>ShannonDiversity</th>\n",
       "    </tr>\n",
       "  </thead>\n",
       "  <tbody>\n",
       "    <tr>\n",
       "      <th>0</th>\n",
       "      <td>0.5</td>\n",
       "      <td>1</td>\n",
       "      <td>0.059262</td>\n",
       "    </tr>\n",
       "    <tr>\n",
       "      <th>1</th>\n",
       "      <td>0.5</td>\n",
       "      <td>2</td>\n",
       "      <td>1.093600</td>\n",
       "    </tr>\n",
       "    <tr>\n",
       "      <th>2</th>\n",
       "      <td>0.5</td>\n",
       "      <td>3</td>\n",
       "      <td>1.139390</td>\n",
       "    </tr>\n",
       "    <tr>\n",
       "      <th>3</th>\n",
       "      <td>0.5</td>\n",
       "      <td>4</td>\n",
       "      <td>0.547651</td>\n",
       "    </tr>\n",
       "    <tr>\n",
       "      <th>4</th>\n",
       "      <td>0.5</td>\n",
       "      <td>5</td>\n",
       "      <td>0.065928</td>\n",
       "    </tr>\n",
       "  </tbody>\n",
       "</table>\n",
       "</div>"
      ],
      "text/plain": [
       "   Virulence  Replicate  ShannonDiversity\n",
       "0        0.5          1          0.059262\n",
       "1        0.5          2          1.093600\n",
       "2        0.5          3          1.139390\n",
       "3        0.5          4          0.547651\n",
       "4        0.5          5          0.065928"
      ]
     },
     "execution_count": 17,
     "metadata": {},
     "output_type": "execute_result"
    }
   ],
   "source": [
    "from pandas import *\n",
    "\n",
    "# must specify that blank space \" \" is NaN\n",
    "df = read_csv(\"parasite_data.csv\", na_values=[\" \"])\n",
    "df.head()"
   ]
  },
  {
   "cell_type": "markdown",
   "metadata": {},
   "source": [
    "## Accessing data in pandas DataFrames"
   ]
  },
  {
   "cell_type": "code",
   "execution_count": 18,
   "metadata": {
    "collapsed": false
   },
   "outputs": [
    {
     "data": {
      "text/plain": [
       "0    0.5\n",
       "1    0.5\n",
       "2    0.5\n",
       "3    0.5\n",
       "4    0.5\n",
       "Name: Virulence, dtype: float64"
      ]
     },
     "execution_count": 18,
     "metadata": {},
     "output_type": "execute_result"
    }
   ],
   "source": [
    "df['Virulence'].head()"
   ]
  },
  {
   "cell_type": "markdown",
   "metadata": {},
   "source": [
    "## Filtering data "
   ]
  },
  {
   "cell_type": "code",
   "execution_count": 19,
   "metadata": {
    "collapsed": false
   },
   "outputs": [
    {
     "data": {
      "text/html": [
       "<div>\n",
       "<table border=\"1\" class=\"dataframe\">\n",
       "  <thead>\n",
       "    <tr style=\"text-align: right;\">\n",
       "      <th></th>\n",
       "      <th>Virulence</th>\n",
       "      <th>Replicate</th>\n",
       "      <th>ShannonDiversity</th>\n",
       "    </tr>\n",
       "  </thead>\n",
       "  <tbody>\n",
       "    <tr>\n",
       "      <th>8</th>\n",
       "      <td>0.5</td>\n",
       "      <td>9</td>\n",
       "      <td>2.04768</td>\n",
       "    </tr>\n",
       "    <tr>\n",
       "      <th>89</th>\n",
       "      <td>0.6</td>\n",
       "      <td>40</td>\n",
       "      <td>2.01066</td>\n",
       "    </tr>\n",
       "    <tr>\n",
       "      <th>92</th>\n",
       "      <td>0.6</td>\n",
       "      <td>43</td>\n",
       "      <td>2.90081</td>\n",
       "    </tr>\n",
       "    <tr>\n",
       "      <th>96</th>\n",
       "      <td>0.6</td>\n",
       "      <td>47</td>\n",
       "      <td>2.02915</td>\n",
       "    </tr>\n",
       "    <tr>\n",
       "      <th>105</th>\n",
       "      <td>0.7</td>\n",
       "      <td>6</td>\n",
       "      <td>2.23427</td>\n",
       "    </tr>\n",
       "  </tbody>\n",
       "</table>\n",
       "</div>"
      ],
      "text/plain": [
       "     Virulence  Replicate  ShannonDiversity\n",
       "8          0.5          9           2.04768\n",
       "89         0.6         40           2.01066\n",
       "92         0.6         43           2.90081\n",
       "96         0.6         47           2.02915\n",
       "105        0.7          6           2.23427"
      ]
     },
     "execution_count": 19,
     "metadata": {},
     "output_type": "execute_result"
    }
   ],
   "source": [
    "df[df[\"ShannonDiversity\"] > 2.0].head()"
   ]
  },
  {
   "cell_type": "markdown",
   "metadata": {},
   "source": [
    "## Filtering Nan values"
   ]
  },
  {
   "cell_type": "code",
   "execution_count": 20,
   "metadata": {
    "collapsed": false
   },
   "outputs": [
    {
     "data": {
      "text/html": [
       "<div>\n",
       "<table border=\"1\" class=\"dataframe\">\n",
       "  <thead>\n",
       "    <tr style=\"text-align: right;\">\n",
       "      <th></th>\n",
       "      <th>Virulence</th>\n",
       "      <th>Replicate</th>\n",
       "      <th>ShannonDiversity</th>\n",
       "    </tr>\n",
       "  </thead>\n",
       "  <tbody>\n",
       "    <tr>\n",
       "      <th>300</th>\n",
       "      <td>NaN</td>\n",
       "      <td>1</td>\n",
       "      <td>0.000000</td>\n",
       "    </tr>\n",
       "    <tr>\n",
       "      <th>301</th>\n",
       "      <td>NaN</td>\n",
       "      <td>2</td>\n",
       "      <td>0.000000</td>\n",
       "    </tr>\n",
       "    <tr>\n",
       "      <th>302</th>\n",
       "      <td>NaN</td>\n",
       "      <td>3</td>\n",
       "      <td>0.833645</td>\n",
       "    </tr>\n",
       "    <tr>\n",
       "      <th>303</th>\n",
       "      <td>NaN</td>\n",
       "      <td>4</td>\n",
       "      <td>0.000000</td>\n",
       "    </tr>\n",
       "    <tr>\n",
       "      <th>304</th>\n",
       "      <td>NaN</td>\n",
       "      <td>5</td>\n",
       "      <td>0.990309</td>\n",
       "    </tr>\n",
       "  </tbody>\n",
       "</table>\n",
       "</div>"
      ],
      "text/plain": [
       "     Virulence  Replicate  ShannonDiversity\n",
       "300        NaN          1          0.000000\n",
       "301        NaN          2          0.000000\n",
       "302        NaN          3          0.833645\n",
       "303        NaN          4          0.000000\n",
       "304        NaN          5          0.990309"
      ]
     },
     "execution_count": 20,
     "metadata": {},
     "output_type": "execute_result"
    }
   ],
   "source": [
    "import numpy as np  \n",
    "df[np.isnan(df[\"Virulence\"])].head()"
   ]
  },
  {
   "cell_type": "markdown",
   "metadata": {},
   "source": [
    "Os métodos DataFrame ignoram automaticamente os valores NA / NaN.\n"
   ]
  },
  {
   "cell_type": "code",
   "execution_count": 21,
   "metadata": {
    "collapsed": false
   },
   "outputs": [
    {
     "name": "stdout",
     "output_type": "stream",
     "text": [
      "Mean virulence across all treatments: 0.7500000000000013\n"
     ]
    }
   ],
   "source": [
    "print(\"Mean virulence across all treatments: {}\".format( df[\"Virulence\"].mean() ))\n"
   ]
  },
  {
   "cell_type": "markdown",
   "metadata": {},
   "source": [
    "## Tratando dados ausentes"
   ]
  },
  {
   "cell_type": "code",
   "execution_count": 22,
   "metadata": {
    "collapsed": false
   },
   "outputs": [
    {
     "data": {
      "text/plain": [
       "0    0.5\n",
       "1    0.5\n",
       "2    0.5\n",
       "3    0.5\n",
       "4    0.5\n",
       "Name: Virulence, dtype: float64"
      ]
     },
     "execution_count": 22,
     "metadata": {},
     "output_type": "execute_result"
    }
   ],
   "source": [
    "df = df.dropna()\n",
    "df[\"Virulence\"].dropna().head()"
   ]
  },
  {
   "cell_type": "code",
   "execution_count": 23,
   "metadata": {
    "collapsed": false
   },
   "outputs": [
    {
     "data": {
      "text/plain": [
       "0    0.5\n",
       "1    0.5\n",
       "2    0.5\n",
       "3    0.5\n",
       "4    0.5\n",
       "Name: Virulence, dtype: float64"
      ]
     },
     "execution_count": 23,
     "metadata": {},
     "output_type": "execute_result"
    }
   ],
   "source": [
    "df.fillna(0.0)[\"Virulence\"].head()  "
   ]
  },
  {
   "cell_type": "markdown",
   "metadata": {
    "hideCode": false
   },
   "source": []
  },
  {
   "cell_type": "markdown",
   "metadata": {},
   "source": [
    "## Estatística básica"
   ]
  },
  {
   "cell_type": "markdown",
   "metadata": {},
   "source": [
    "Média e Variância"
   ]
  },
  {
   "cell_type": "code",
   "execution_count": 25,
   "metadata": {
    "collapsed": false
   },
   "outputs": [
    {
     "name": "stdout",
     "output_type": "stream",
     "text": [
      "Mean Shannon Diversity w/ 0.8 Parasite Virulence = 1.2691338187999996\n",
      "Variance in Shannon Diversity w/ 0.8 Parasite Virulence = 0.6110384333126732\n"
     ]
    }
   ],
   "source": [
    "print (\"Mean Shannon Diversity w/ 0.8 Parasite Virulence =\",  \n",
    "    df[df[\"Virulence\"] == 0.8][\"ShannonDiversity\"].mean()) \n",
    "\n",
    "print (\"Variance in Shannon Diversity w/ 0.8 Parasite Virulence =\",  \n",
    "    df[df[\"Virulence\"] == 0.8][\"ShannonDiversity\"].var())"
   ]
  },
  {
   "cell_type": "markdown",
   "metadata": {},
   "source": [
    "Standard Error of the Mean (SEM)"
   ]
  },
  {
   "cell_type": "code",
   "execution_count": 27,
   "metadata": {
    "collapsed": false
   },
   "outputs": [
    {
     "name": "stdout",
     "output_type": "stream",
     "text": [
      "SEM of Shannon Diversity w/ 0.8 Parasite Virulence = 0.110547585529\n"
     ]
    }
   ],
   "source": [
    "from scipy import stats  \n",
    "  \n",
    "print (\"SEM of Shannon Diversity w/ 0.8 Parasite Virulence =\",  \n",
    "    stats.sem(df[df[\"Virulence\"] == 0.8][\"ShannonDiversity\"])) "
   ]
  },
  {
   "cell_type": "markdown",
   "metadata": {},
   "source": [
    "Um único SEM geralmente envolverá 68% dos possíveis meios de replicação e duas SEMs envolverão 95% dos possíveis meios de replicação. Duas SEMs são chamadas de \"intervalo estimado de confiança de 95%\". O intervalo de confiança é estimado porque a largura exata depende de quantas repetições você tiver; Essa aproximação é boa quando você tem mais de 20 repetições."
   ]
  },
  {
   "cell_type": "markdown",
   "metadata": {},
   "source": [
    "** Mann-Whitney-Wilcoxon (MWW) RankSum test **"
   ]
  },
  {
   "cell_type": "markdown",
   "metadata": {},
   "source": [
    "O teste MWW RankSum é um teste útil para determinar se duas distribuições são significativamente diferentes ou não. Ao contrário do teste t, o teste RankSum não assume que os dados sejam normalmente distribuídos, fornecendo potencialmente uma avaliação mais precisa dos conjuntos de dados.\n",
    "\n",
    "Como exemplo, digamos que queremos determinar se os resultados dos dois tratamentos seguintes diferem significativamente ou não"
   ]
  },
  {
   "cell_type": "code",
   "execution_count": 29,
   "metadata": {
    "collapsed": true
   },
   "outputs": [],
   "source": [
    "treatment1 = df[df[\"Virulence\"] == 0.5][\"ShannonDiversity\"]  \n",
    "treatment2 = df[df[\"Virulence\"] == 0.8][\"ShannonDiversity\"]  "
   ]
  },
  {
   "cell_type": "code",
   "execution_count": 31,
   "metadata": {
    "collapsed": false
   },
   "outputs": [
    {
     "data": {
      "text/plain": [
       "('Data set 1:\\n', 0    0.059262\n",
       " 1    1.093600\n",
       " 2    1.139390\n",
       " 3    0.547651\n",
       " 4    0.065928\n",
       " Name: ShannonDiversity, dtype: float64)"
      ]
     },
     "execution_count": 31,
     "metadata": {},
     "output_type": "execute_result"
    }
   ],
   "source": [
    "\"Data set 1:\\n\", treatment1.head()"
   ]
  },
  {
   "cell_type": "code",
   "execution_count": 32,
   "metadata": {
    "collapsed": false
   },
   "outputs": [
    {
     "data": {
      "text/plain": [
       "('Data set 2:\\n', 150    1.433800\n",
       " 151    2.079700\n",
       " 152    0.892139\n",
       " 153    2.384740\n",
       " 154    0.006980\n",
       " Name: ShannonDiversity, dtype: float64)"
      ]
     },
     "execution_count": 32,
     "metadata": {},
     "output_type": "execute_result"
    }
   ],
   "source": [
    "\"Data set 2:\\n\", treatment2.head()"
   ]
  },
  {
   "cell_type": "markdown",
   "metadata": {},
   "source": [
    "Um teste RankSum fornecerá um valor P indicando se as duas distribuições são ou não iguais."
   ]
  },
  {
   "cell_type": "code",
   "execution_count": 33,
   "metadata": {
    "collapsed": false
   },
   "outputs": [
    {
     "data": {
      "text/plain": [
       "('MWW RankSum P for treatments 1 and 2 =', 0.00098335590273505771)"
      ]
     },
     "execution_count": 33,
     "metadata": {},
     "output_type": "execute_result"
    }
   ],
   "source": [
    "from scipy import stats  \n",
    "  \n",
    "z_stat, p_val = stats.ranksums(treatment1, treatment2)  \n",
    "  \n",
    "\"MWW RankSum P for treatments 1 and 2 =\", p_val"
   ]
  },
  {
   "cell_type": "markdown",
   "metadata": {},
   "source": [
    "Se P <= 0,05, estamos altamente confiantes de que as distribuições diferem significativamente e podem afirmar que os tratamentos tiveram um impacto significativo no valor medido. \n",
    "\n",
    "Se os tratamentos não diferem significativamente, podemos esperar um resultado como o seguinte:"
   ]
  },
  {
   "cell_type": "code",
   "execution_count": 34,
   "metadata": {
    "collapsed": true
   },
   "outputs": [],
   "source": [
    "treatment3 = experimentDF[experimentDF[\"Virulence\"] == 0.8][\"ShannonDiversity\"]  \n",
    "treatment4 = experimentDF[experimentDF[\"Virulence\"] == 0.9][\"ShannonDiversity\"]"
   ]
  },
  {
   "cell_type": "code",
   "execution_count": 36,
   "metadata": {
    "collapsed": false
   },
   "outputs": [
    {
     "data": {
      "text/plain": [
       "('Data set 3:\\n', 150    1.433800\n",
       " 151    2.079700\n",
       " 152    0.892139\n",
       " 153    2.384740\n",
       " 154    0.006980\n",
       " Name: ShannonDiversity, dtype: float64)"
      ]
     },
     "execution_count": 36,
     "metadata": {},
     "output_type": "execute_result"
    }
   ],
   "source": [
    "\"Data set 3:\\n\", treatment3.head()"
   ]
  },
  {
   "cell_type": "code",
   "execution_count": 37,
   "metadata": {
    "collapsed": false
   },
   "outputs": [
    {
     "data": {
      "text/plain": [
       "('Data set 4:\\n', 200    1.036930\n",
       " 201    0.938018\n",
       " 202    0.995956\n",
       " 203    1.006970\n",
       " 204    0.968258\n",
       " Name: ShannonDiversity, dtype: float64)"
      ]
     },
     "execution_count": 37,
     "metadata": {},
     "output_type": "execute_result"
    }
   ],
   "source": [
    "\"Data set 4:\\n\", treatment4.head()"
   ]
  },
  {
   "cell_type": "code",
   "execution_count": 39,
   "metadata": {
    "collapsed": false
   },
   "outputs": [
    {
     "data": {
      "text/plain": [
       "('MWW RankSum P for treatments 3 and 4 =', 0.99449957112420484)"
      ]
     },
     "execution_count": 39,
     "metadata": {},
     "output_type": "execute_result"
    }
   ],
   "source": [
    "# compute RankSum P value  \n",
    "z_stat, p_val = stats.ranksums(treatment3, treatment4)   \n",
    "\"MWW RankSum P for treatments 3 and 4 =\", p_val  "
   ]
  },
  {
   "cell_type": "markdown",
   "metadata": {},
   "source": [
    "Com P> 0,05, devemos dizer que as distribuições não diferem significativamente. \n",
    "Assim, mudar a virulência do parasita entre 0,8 e 0,9 não resulta em uma mudança significativa na Shannon Diversity."
   ]
  },
  {
   "cell_type": "markdown",
   "metadata": {},
   "source": [
    "# One-way analysis of variance (ANOVA)"
   ]
  },
  {
   "cell_type": "markdown",
   "metadata": {},
   "source": [
    "Se você precisa comparar mais de dois conjuntos de dados ao mesmo tempo, uma ANOVA é a sua melhor aposta. Por exemplo, temos os resultados de três experimentos com intervalos de confiança de sobreposição de 95%, e queremos confirmar que os resultados para os três experimentos não são significativamente diferentes."
   ]
  },
  {
   "cell_type": "code",
   "execution_count": 40,
   "metadata": {
    "collapsed": true
   },
   "outputs": [],
   "source": [
    "treatment1 = df[df[\"Virulence\"] == 0.7][\"ShannonDiversity\"]  \n",
    "treatment2 = df[df[\"Virulence\"] == 0.8][\"ShannonDiversity\"]  \n",
    "treatment3 = df[df[\"Virulence\"] == 0.9][\"ShannonDiversity\"]"
   ]
  },
  {
   "cell_type": "code",
   "execution_count": 41,
   "metadata": {
    "collapsed": false
   },
   "outputs": [
    {
     "data": {
      "text/plain": [
       "('One-way ANOVA P =', 0.38150948187410261)"
      ]
     },
     "execution_count": 41,
     "metadata": {},
     "output_type": "execute_result"
    }
   ],
   "source": [
    "from scipy import stats  \n",
    "      \n",
    "f_val, p_val = stats.f_oneway(treatment1, treatment2, treatment3)  \n",
    "  \n",
    "\"One-way ANOVA P =\", p_val "
   ]
  },
  {
   "cell_type": "markdown",
   "metadata": {},
   "source": [
    "Se P> 0,05, podemos afirmar com alta confiança que os resultados de todos os três experimentos não são significativamente diferentes."
   ]
  },
  {
   "cell_type": "markdown",
   "metadata": {},
   "source": [
    "# Verificando a normalidade da distribuição"
   ]
  },
  {
   "cell_type": "code",
   "execution_count": null,
   "metadata": {
    "collapsed": true
   },
   "outputs": [],
   "source": [
    "import numpy as np \n",
    "import pylab \n",
    "import scipy.stats as stats\n",
    "\n",
    "stats.probplot(df[\"Virulence\"], dist=\"norm\", plot=pylab)\n",
    "pylab.show()"
   ]
  },
  {
   "cell_type": "code",
   "execution_count": null,
   "metadata": {
    "collapsed": true
   },
   "outputs": [],
   "source": []
  }
 ],
 "metadata": {
  "kernelspec": {
   "display_name": "Python 3",
   "language": "python",
   "name": "python3"
  },
  "language_info": {
   "codemirror_mode": {
    "name": "ipython",
    "version": 3
   },
   "file_extension": ".py",
   "mimetype": "text/x-python",
   "name": "python",
   "nbconvert_exporter": "python",
   "pygments_lexer": "ipython3",
   "version": "3.6.0"
  }
 },
 "nbformat": 4,
 "nbformat_minor": 2
}
