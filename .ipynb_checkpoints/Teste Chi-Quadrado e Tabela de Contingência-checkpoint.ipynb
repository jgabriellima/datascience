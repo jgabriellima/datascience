{
 "cells": [
  {
   "cell_type": "markdown",
   "metadata": {},
   "source": [
    "# Teste Chi-Quadrado e Tabela de Contingência"
   ]
  },
  {
   "cell_type": "code",
   "execution_count": 16,
   "metadata": {
    "collapsed": true
   },
   "outputs": [],
   "source": [
    "import plotly.plotly as py\n",
    "import plotly \n",
    "plotly.tools.set_credentials_file(username='jgabriellima', api_key='RyEwupbVYv5hUZp13NTJ')\n",
    "from plotly.tools import FigureFactory as FF\n",
    "import numpy as np\n",
    "import pandas as pd\n",
    "import scipy as sc\n"
   ]
  },
  {
   "cell_type": "markdown",
   "metadata": {},
   "source": [
    "Juntamente com o teste t, este é um dos testes de hipótese mais famosos e também um dos mais utilizados por pesquisadores da área de saúde, marketing, engenharia, esportes e etc. O teste Chi Quadrado de Pearson (ou Qui Quadrado) para tabelas de contingência é usado para verificar se há independência ou alguma relação entre as variáveis que compõem a tabela."
   ]
  },
  {
   "cell_type": "markdown",
   "metadata": {},
   "source": [
    "# O que é uma tabela de contingência?"
   ]
  },
  {
   "cell_type": "markdown",
   "metadata": {},
   "source": [
    "Uma tabela de contingência nada mais é do que uma tabela de frequências de determinadas variáveis categóricas. No nosso caso, vamos trabalhar com tabelas de contingência de duas variáveis."
   ]
  },
  {
   "cell_type": "code",
   "execution_count": 12,
   "metadata": {
    "collapsed": false
   },
   "outputs": [
    {
     "data": {
      "text/html": [
       "<iframe id=\"igraph\" scrolling=\"no\" style=\"border:none;\" seamless=\"seamless\" src=\"https://plot.ly/~jgabriellima/61.embed\" height=\"140px\" width=\"100%\"></iframe>"
      ],
      "text/plain": [
       "<plotly.tools.PlotlyDisplay object>"
      ]
     },
     "execution_count": 12,
     "metadata": {},
     "output_type": "execute_result"
    }
   ],
   "source": [
    "matrix_sw = [\n",
    "    ['', 'Destro(a)', 'Canhoto(a)'],\n",
    "    ['Homem', 43, 9],\n",
    "    ['Mulher', 44, 4]\n",
    "]\n",
    "\n",
    "tabela_contingencia = plotly.figure_factory.create_table(matrix_sw, index=True)\n",
    "py.iplot(tabela_contingencia, filename='tabela_contingencia')"
   ]
  },
  {
   "cell_type": "markdown",
   "metadata": {},
   "source": [
    "Acima estamos comparando duas variáveis: Sexo (homens e mulheres) e com qual mão escrevem (canhotos(as) ou destros(as)). Foram observados 43 homens destros e 4 mulheres canhotas, por exemplo."
   ]
  },
  {
   "cell_type": "markdown",
   "metadata": {},
   "source": [
    "# Quando usar o teste Chi Quadrado de Pearson?"
   ]
  },
  {
   "cell_type": "markdown",
   "metadata": {},
   "source": [
    "Quando temos **duas variáveis categóricas** e queremos verificar se as duas estão **relacionadas** ou não. Reforço o termo relacionadas para dizer que **esse teste não tem nada a ver com causa e consequência!** Ele apenas verifica a independência entre as duas variáveis.\n",
    "\n",
    "No exemplo mostrado acima, podemos estar interessados em saber se há relação entre qual mão uma pessoa usa para escrever e seu sexo. Então, coletamos dados de 100 pessoas e dispomos o resultado da pesquisa na tabela de contingência mostrada acima. Com esse dados, então, queremos verificar se existe ou não relação entre a mão que uma pessoa usa para escrever e seu sexo. Porém, antes de executar o teste é preciso verificar alguma suposições básicas."
   ]
  },
  {
   "cell_type": "markdown",
   "metadata": {},
   "source": [
    "** Antes de aplicar qualquer teste estatístico é preciso saber quais as hipóteses e seu problema é adequado para tal.** Se isso não for verificado você pode estar tirando conclusões erradas e imprecisas.\n",
    "\n",
    "Verifique se:\n",
    "\n",
    "* **Suas variáveis são categóricas:** caso contrário, nem dá para fazer uma tabela de contingência.\n",
    "\n",
    "* **Sua amostra é aleatória:** é importante que haja aleatoriedade ao selecionar os dados da sua amostra. A ideia da aleatoriedade é que todos tenham a mesma probabilidade (oportunidade) de serem entrevistados/amostrados.\n",
    "\n",
    "* **Você tem uma quantidade considerável de dados:** quanto mais observações, melhor para você e mais preciso será seu estudo. Porém, alguns números são tido como referência, mas não uma regra ao usar o teste Chi Quadrado de Pearson. Por exemplo, um mínimo de 30 observações ou pelo menos 5 observações para cada casela da tabela.\n",
    "\n",
    "* ** As observações são independentes:** usando o exemplo anterior fica mais fácil. Obviamente todas as observações são independentes, dado que estou coletando informações de pessoas diferentes. Exemplo em que as observações não são independentes é quando eu coleto informação da mesma pessoa/animal/instituição mais de uma vez."
   ]
  },
  {
   "cell_type": "markdown",
   "metadata": {},
   "source": [
    "Se todas essas suposições são satisfeitas, então podemos partir para a prática e utilizar o teste Chi Quadrado de Pearson."
   ]
  },
  {
   "cell_type": "markdown",
   "metadata": {},
   "source": [
    "# Utilizando o teste Chi Quadrado de Pearson"
   ]
  },
  {
   "cell_type": "markdown",
   "metadata": {},
   "source": [
    "** É preciso saber com qual hipótese está trabalhando para o caso de rejeição sabermos do que está sendo falado. **\n",
    "\n",
    "Neste caso, o teste Chi Quadrado de Pearson trabalha com a ** hipótese nula ** de que ** as variáveis são estatisticamente independentes**. \n",
    "\n",
    "Portanto, considerando um nível de 5%, ** se encontrarmos um p-valor menor que 0,05 temos que as variáveis possuem alguma relação e não são independentes!** \n",
    "\n",
    "Vamos pegar novamente o exemplo citado anteriormente de pessoas que escrevem com a mão esquerda ou direita. Primeiramente, vamos inserir os dados no R e em seguida executar o teste."
   ]
  },
  {
   "cell_type": "code",
   "execution_count": 18,
   "metadata": {
    "collapsed": false
   },
   "outputs": [],
   "source": [
    "tab = np.array([[43, 9],\n",
    "       [44, 4]])"
   ]
  },
  {
   "cell_type": "markdown",
   "metadata": {},
   "source": [
    "Esta função calcula a estatística do qui-quadrado e o valor p para o teste de hipóteses de independência das freqüências observadas na tabela de contingência observada."
   ]
  },
  {
   "cell_type": "code",
   "execution_count": 20,
   "metadata": {
    "collapsed": false
   },
   "outputs": [],
   "source": [
    "# Teste Qui-quadrado de independência das variáveis em uma tabela de contingência.\n",
    "chi2, p, dof, ex = sc.stats.chi2_contingency(tab)"
   ]
  },
  {
   "cell_type": "code",
   "execution_count": 25,
   "metadata": {
    "collapsed": false
   },
   "outputs": [
    {
     "data": {
      "text/plain": [
       "('X-squared:', 1.0724852071005921)"
      ]
     },
     "execution_count": 25,
     "metadata": {},
     "output_type": "execute_result"
    }
   ],
   "source": [
    "\"X-squared:\" , chi2"
   ]
  },
  {
   "cell_type": "code",
   "execution_count": 26,
   "metadata": {
    "collapsed": false
   },
   "outputs": [
    {
     "data": {
      "text/plain": [
       "('p-value: ', 0.30038477039056599)"
      ]
     },
     "execution_count": 26,
     "metadata": {},
     "output_type": "execute_result"
    }
   ],
   "source": [
    "\"p-value: \", p"
   ]
  },
  {
   "cell_type": "code",
   "execution_count": 28,
   "metadata": {
    "collapsed": false
   },
   "outputs": [
    {
     "data": {
      "text/plain": [
       "('df: ', 1)"
      ]
     },
     "execution_count": 28,
     "metadata": {},
     "output_type": "execute_result"
    }
   ],
   "source": [
    "\"df: \", dof #\"Graus de liberdade Delta\": ajuste aos graus de liberdade para o valor p."
   ]
  },
  {
   "cell_type": "markdown",
   "metadata": {},
   "source": [
    "Note que o p-valor do teste encontra-se em p-value acima, ** resultando em um p-valor acima de 0,05 **. Ou seja, ** a hipótese de que as variáveis são independentes não pode ser rejeitada ** e há evidências de que não existe uma relação entre o sexo e a mão com a qual a pessoa escreve."
   ]
  },
  {
   "cell_type": "markdown",
   "metadata": {},
   "source": [
    "Se o p-valor não te convence (sempre desconfie de resultados obtidos apenas com p-valor), podemos observar as frequências relativas"
   ]
  },
  {
   "cell_type": "code",
   "execution_count": 36,
   "metadata": {
    "collapsed": false
   },
   "outputs": [
    {
     "data": {
      "text/plain": [
       "array([ 1.,  0.,  0.,  1.])"
      ]
     },
     "execution_count": 36,
     "metadata": {},
     "output_type": "execute_result"
    }
   ],
   "source": [
    "from scipy import stats\n",
    "res = stats.relfreq(tab, numbins=4)\n",
    "res.frequency"
   ]
  },
  {
   "cell_type": "markdown",
   "metadata": {},
   "source": [
    "Como simplificamos o código para facilitar a fluidez e o entendimento, considere que as caselas da tabela correspondem exatamente às apresentadas anteriormente. \n",
    "\n",
    "Por exemplo, a primeira linha e a primeira coluna correspondem a homens destros, ou seja, 82,69% dos homens são destros enquanto os demais (17,31%) são canhotos. \n",
    "\n",
    "Por outro lado, 91,67% das mulheres são destras contra 8,33% de canhotas. Assim, temos que a maioria das pessoas são destras independentemente do sexo."
   ]
  },
  {
   "cell_type": "code",
   "execution_count": null,
   "metadata": {
    "collapsed": true
   },
   "outputs": [],
   "source": []
  }
 ],
 "metadata": {
  "kernelspec": {
   "display_name": "Python 3",
   "language": "python",
   "name": "python3"
  },
  "language_info": {
   "codemirror_mode": {
    "name": "ipython",
    "version": 3
   },
   "file_extension": ".py",
   "mimetype": "text/x-python",
   "name": "python",
   "nbconvert_exporter": "python",
   "pygments_lexer": "ipython3",
   "version": "3.6.0"
  }
 },
 "nbformat": 4,
 "nbformat_minor": 2
}
