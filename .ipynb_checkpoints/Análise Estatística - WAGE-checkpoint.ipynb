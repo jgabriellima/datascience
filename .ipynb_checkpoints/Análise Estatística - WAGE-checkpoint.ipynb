{
 "cells": [
  {
   "cell_type": "code",
   "execution_count": 25,
   "metadata": {
    "collapsed": true
   },
   "outputs": [],
   "source": [
    "import pandas\n",
    "import warnings\n",
    "warnings.filterwarnings('ignore')\n",
    "%matplotlib inline"
   ]
  },
  {
   "cell_type": "code",
   "execution_count": 40,
   "metadata": {
    "collapsed": false
   },
   "outputs": [],
   "source": [
    "data = pandas.read_csv('brain_size.csv', sep=';', na_values=\".\")"
   ]
  },
  {
   "cell_type": "markdown",
   "metadata": {},
   "source": [
    "Usando o arquivo CSV acima que dá observações de tamanho e peso cerebral e IQ (Willerman et al., 1991), os dados são uma mistura de valores numéricos e categóricos"
   ]
  },
  {
   "cell_type": "code",
   "execution_count": 27,
   "metadata": {
    "collapsed": false
   },
   "outputs": [
    {
     "name": "stdout",
     "output_type": "stream",
     "text": [
      "<class 'pandas.core.frame.DataFrame'>\n",
      "RangeIndex: 40 entries, 0 to 39\n",
      "Data columns (total 8 columns):\n",
      "Unnamed: 0    40 non-null int64\n",
      "Gender        40 non-null object\n",
      "FSIQ          40 non-null int64\n",
      "VIQ           40 non-null int64\n",
      "PIQ           40 non-null int64\n",
      "Weight        38 non-null float64\n",
      "Height        39 non-null float64\n",
      "MRI_Count     40 non-null int64\n",
      "dtypes: float64(2), int64(5), object(1)\n",
      "memory usage: 2.6+ KB\n"
     ]
    }
   ],
   "source": [
    "data.info(2)"
   ]
  },
  {
   "cell_type": "code",
   "execution_count": 28,
   "metadata": {
    "collapsed": false
   },
   "outputs": [
    {
     "data": {
      "text/html": [
       "<div>\n",
       "<table border=\"1\" class=\"dataframe\">\n",
       "  <thead>\n",
       "    <tr style=\"text-align: right;\">\n",
       "      <th></th>\n",
       "      <th>count</th>\n",
       "      <th>mean</th>\n",
       "      <th>std</th>\n",
       "      <th>min</th>\n",
       "      <th>25%</th>\n",
       "      <th>50%</th>\n",
       "      <th>75%</th>\n",
       "      <th>max</th>\n",
       "    </tr>\n",
       "  </thead>\n",
       "  <tbody>\n",
       "    <tr>\n",
       "      <th>Unnamed: 0</th>\n",
       "      <td>40.0</td>\n",
       "      <td>20.500000</td>\n",
       "      <td>11.690452</td>\n",
       "      <td>1.0</td>\n",
       "      <td>10.75</td>\n",
       "      <td>20.5</td>\n",
       "      <td>30.25</td>\n",
       "      <td>40.0</td>\n",
       "    </tr>\n",
       "    <tr>\n",
       "      <th>FSIQ</th>\n",
       "      <td>40.0</td>\n",
       "      <td>113.450000</td>\n",
       "      <td>24.082071</td>\n",
       "      <td>77.0</td>\n",
       "      <td>89.75</td>\n",
       "      <td>116.5</td>\n",
       "      <td>135.50</td>\n",
       "      <td>144.0</td>\n",
       "    </tr>\n",
       "    <tr>\n",
       "      <th>VIQ</th>\n",
       "      <td>40.0</td>\n",
       "      <td>112.350000</td>\n",
       "      <td>23.616107</td>\n",
       "      <td>71.0</td>\n",
       "      <td>90.00</td>\n",
       "      <td>113.0</td>\n",
       "      <td>129.75</td>\n",
       "      <td>150.0</td>\n",
       "    </tr>\n",
       "    <tr>\n",
       "      <th>PIQ</th>\n",
       "      <td>40.0</td>\n",
       "      <td>111.025000</td>\n",
       "      <td>22.471050</td>\n",
       "      <td>72.0</td>\n",
       "      <td>88.25</td>\n",
       "      <td>115.0</td>\n",
       "      <td>128.00</td>\n",
       "      <td>150.0</td>\n",
       "    </tr>\n",
       "    <tr>\n",
       "      <th>Weight</th>\n",
       "      <td>38.0</td>\n",
       "      <td>151.052632</td>\n",
       "      <td>23.478509</td>\n",
       "      <td>106.0</td>\n",
       "      <td>135.25</td>\n",
       "      <td>146.5</td>\n",
       "      <td>172.00</td>\n",
       "      <td>192.0</td>\n",
       "    </tr>\n",
       "    <tr>\n",
       "      <th>Height</th>\n",
       "      <td>39.0</td>\n",
       "      <td>68.525641</td>\n",
       "      <td>3.994649</td>\n",
       "      <td>62.0</td>\n",
       "      <td>66.00</td>\n",
       "      <td>68.0</td>\n",
       "      <td>70.50</td>\n",
       "      <td>77.0</td>\n",
       "    </tr>\n",
       "    <tr>\n",
       "      <th>MRI_Count</th>\n",
       "      <td>40.0</td>\n",
       "      <td>908755.000000</td>\n",
       "      <td>72282.048931</td>\n",
       "      <td>790619.0</td>\n",
       "      <td>855918.50</td>\n",
       "      <td>905399.0</td>\n",
       "      <td>950078.00</td>\n",
       "      <td>1079549.0</td>\n",
       "    </tr>\n",
       "  </tbody>\n",
       "</table>\n",
       "</div>"
      ],
      "text/plain": [
       "            count           mean           std       min        25%       50%  \\\n",
       "Unnamed: 0   40.0      20.500000     11.690452       1.0      10.75      20.5   \n",
       "FSIQ         40.0     113.450000     24.082071      77.0      89.75     116.5   \n",
       "VIQ          40.0     112.350000     23.616107      71.0      90.00     113.0   \n",
       "PIQ          40.0     111.025000     22.471050      72.0      88.25     115.0   \n",
       "Weight       38.0     151.052632     23.478509     106.0     135.25     146.5   \n",
       "Height       39.0      68.525641      3.994649      62.0      66.00      68.0   \n",
       "MRI_Count    40.0  908755.000000  72282.048931  790619.0  855918.50  905399.0   \n",
       "\n",
       "                  75%        max  \n",
       "Unnamed: 0      30.25       40.0  \n",
       "FSIQ           135.50      144.0  \n",
       "VIQ            129.75      150.0  \n",
       "PIQ            128.00      150.0  \n",
       "Weight         172.00      192.0  \n",
       "Height          70.50       77.0  \n",
       "MRI_Count   950078.00  1079549.0  "
      ]
     },
     "execution_count": 28,
     "metadata": {},
     "output_type": "execute_result"
    }
   ],
   "source": [
    "data.describe().transpose()"
   ]
  },
  {
   "cell_type": "markdown",
   "metadata": {},
   "source": [
    "# Manipulando dados"
   ]
  },
  {
   "cell_type": "code",
   "execution_count": 29,
   "metadata": {
    "collapsed": false
   },
   "outputs": [
    {
     "data": {
      "text/plain": [
       "(40, 8)"
      ]
     },
     "execution_count": 29,
     "metadata": {},
     "output_type": "execute_result"
    }
   ],
   "source": [
    "data.shape "
   ]
  },
  {
   "cell_type": "code",
   "execution_count": 30,
   "metadata": {
    "collapsed": false
   },
   "outputs": [
    {
     "data": {
      "text/plain": [
       "Index(['Unnamed: 0', 'Gender', 'FSIQ', 'VIQ', 'PIQ', 'Weight', 'Height',\n",
       "       'MRI_Count'],\n",
       "      dtype='object')"
      ]
     },
     "execution_count": 30,
     "metadata": {},
     "output_type": "execute_result"
    }
   ],
   "source": [
    "data.columns"
   ]
  },
  {
   "cell_type": "code",
   "execution_count": 31,
   "metadata": {
    "collapsed": false
   },
   "outputs": [
    {
     "data": {
      "text/plain": [
       "0    Female\n",
       "1      Male\n",
       "2      Male\n",
       "3      Male\n",
       "4    Female\n",
       "5    Female\n",
       "6    Female\n",
       "7    Female\n",
       "8      Male\n",
       "9      Male\n",
       "Name: Gender, dtype: object"
      ]
     },
     "execution_count": 31,
     "metadata": {},
     "output_type": "execute_result"
    }
   ],
   "source": [
    "data['Gender'].head(10)"
   ]
  },
  {
   "cell_type": "code",
   "execution_count": 41,
   "metadata": {
    "collapsed": false
   },
   "outputs": [
    {
     "data": {
      "text/plain": [
       "109.45"
      ]
     },
     "execution_count": 41,
     "metadata": {},
     "output_type": "execute_result"
    }
   ],
   "source": [
    "#Simpler selector\n",
    "data[data['Gender'] == 'Female']['VIQ'].mean()"
   ]
  },
  {
   "cell_type": "code",
   "execution_count": 42,
   "metadata": {
    "collapsed": false
   },
   "outputs": [
    {
     "data": {
      "text/plain": [
       "115.25"
      ]
     },
     "execution_count": 42,
     "metadata": {},
     "output_type": "execute_result"
    }
   ],
   "source": [
    "#Simpler selector\n",
    "data[data['Gender'] == 'Male']['VIQ'].mean()"
   ]
  },
  {
   "cell_type": "markdown",
   "metadata": {},
   "source": [
    "### groupby: dividindo um quadro de dados em valores de variáveis categóricas:"
   ]
  },
  {
   "cell_type": "code",
   "execution_count": 33,
   "metadata": {
    "collapsed": true
   },
   "outputs": [],
   "source": [
    "groupby_gender = data.groupby('Gender')"
   ]
  },
  {
   "cell_type": "code",
   "execution_count": 34,
   "metadata": {
    "collapsed": false
   },
   "outputs": [
    {
     "name": "stdout",
     "output_type": "stream",
     "text": [
      "('Female', 109.45)\n",
      "('Male', 115.25)\n"
     ]
    }
   ],
   "source": [
    "for gender, value in groupby_gender['VIQ']:\n",
    "    print((gender, value.mean()))"
   ]
  },
  {
   "cell_type": "code",
   "execution_count": 35,
   "metadata": {
    "collapsed": false
   },
   "outputs": [
    {
     "data": {
      "text/html": [
       "<div>\n",
       "<table border=\"1\" class=\"dataframe\">\n",
       "  <thead>\n",
       "    <tr style=\"text-align: right;\">\n",
       "      <th></th>\n",
       "      <th>Unnamed: 0</th>\n",
       "      <th>FSIQ</th>\n",
       "      <th>VIQ</th>\n",
       "      <th>PIQ</th>\n",
       "      <th>Weight</th>\n",
       "      <th>Height</th>\n",
       "      <th>MRI_Count</th>\n",
       "    </tr>\n",
       "    <tr>\n",
       "      <th>Gender</th>\n",
       "      <th></th>\n",
       "      <th></th>\n",
       "      <th></th>\n",
       "      <th></th>\n",
       "      <th></th>\n",
       "      <th></th>\n",
       "      <th></th>\n",
       "    </tr>\n",
       "  </thead>\n",
       "  <tbody>\n",
       "    <tr>\n",
       "      <th>Female</th>\n",
       "      <td>19.65</td>\n",
       "      <td>111.9</td>\n",
       "      <td>109.45</td>\n",
       "      <td>110.45</td>\n",
       "      <td>137.200000</td>\n",
       "      <td>65.765000</td>\n",
       "      <td>862654.6</td>\n",
       "    </tr>\n",
       "    <tr>\n",
       "      <th>Male</th>\n",
       "      <td>21.35</td>\n",
       "      <td>115.0</td>\n",
       "      <td>115.25</td>\n",
       "      <td>111.60</td>\n",
       "      <td>166.444444</td>\n",
       "      <td>71.431579</td>\n",
       "      <td>954855.4</td>\n",
       "    </tr>\n",
       "  </tbody>\n",
       "</table>\n",
       "</div>"
      ],
      "text/plain": [
       "        Unnamed: 0   FSIQ     VIQ     PIQ      Weight     Height  MRI_Count\n",
       "Gender                                                                     \n",
       "Female       19.65  111.9  109.45  110.45  137.200000  65.765000   862654.6\n",
       "Male         21.35  115.0  115.25  111.60  166.444444  71.431579   954855.4"
      ]
     },
     "execution_count": 35,
     "metadata": {},
     "output_type": "execute_result"
    }
   ],
   "source": [
    "groupby_gender.mean()"
   ]
  },
  {
   "cell_type": "markdown",
   "metadata": {},
   "source": [
    "# Plotando os dados"
   ]
  },
  {
   "cell_type": "code",
   "execution_count": 36,
   "metadata": {
    "collapsed": false
   },
   "outputs": [
    {
     "data": {
      "text/plain": [
       "array([[<matplotlib.axes._subplots.AxesSubplot object at 0x113f660f0>,\n",
       "        <matplotlib.axes._subplots.AxesSubplot object at 0x113fe54a8>,\n",
       "        <matplotlib.axes._subplots.AxesSubplot object at 0x113ff9f98>],\n",
       "       [<matplotlib.axes._subplots.AxesSubplot object at 0x1140a3390>,\n",
       "        <matplotlib.axes._subplots.AxesSubplot object at 0x1141086a0>,\n",
       "        <matplotlib.axes._subplots.AxesSubplot object at 0x1141086d8>],\n",
       "       [<matplotlib.axes._subplots.AxesSubplot object at 0x1141c62e8>,\n",
       "        <matplotlib.axes._subplots.AxesSubplot object at 0x11421ae10>,\n",
       "        <matplotlib.axes._subplots.AxesSubplot object at 0x11427de48>]], dtype=object)"
      ]
     },
     "execution_count": 36,
     "metadata": {},
     "output_type": "execute_result"
    },
    {
     "data": {
      "image/png": "[encoded data removed]",
      "text/plain": [
       "<matplotlib.figure.Figure at 0x113f7f8d0>"
      ]
     },
     "metadata": {},
     "output_type": "display_data"
    }
   ],
   "source": [
    "from pandas.tools import plotting\n",
    "plotting.scatter_matrix(data[['Weight', 'Height', 'MRI_Count']])"
   ]
  },
  {
   "cell_type": "code",
   "execution_count": 37,
   "metadata": {
    "collapsed": false
   },
   "outputs": [
    {
     "data": {
      "text/plain": [
       "array([[<matplotlib.axes._subplots.AxesSubplot object at 0x1142a1940>,\n",
       "        <matplotlib.axes._subplots.AxesSubplot object at 0x114559ef0>,\n",
       "        <matplotlib.axes._subplots.AxesSubplot object at 0x114586438>],\n",
       "       [<matplotlib.axes._subplots.AxesSubplot object at 0x1145d8940>,\n",
       "        <matplotlib.axes._subplots.AxesSubplot object at 0x11463fc50>,\n",
       "        <matplotlib.axes._subplots.AxesSubplot object at 0x11463fc88>],\n",
       "       [<matplotlib.axes._subplots.AxesSubplot object at 0x1147027f0>,\n",
       "        <matplotlib.axes._subplots.AxesSubplot object at 0x114170860>,\n",
       "        <matplotlib.axes._subplots.AxesSubplot object at 0x11477f9e8>]], dtype=object)"
      ]
     },
     "execution_count": 37,
     "metadata": {},
     "output_type": "execute_result"
    },
    {
     "data": {
      "image/png": "[encoded data removed]",
      "text/plain": [
       "<matplotlib.figure.Figure at 0x1144b08d0>"
      ]
     },
     "metadata": {},
     "output_type": "display_data"
    }
   ],
   "source": [
    "plotting.scatter_matrix(data[['PIQ', 'VIQ', 'FSIQ']])   \n"
   ]
  },
  {
   "cell_type": "markdown",
   "metadata": {},
   "source": [
    "# Teste de hipóteses: comparando dois grupos"
   ]
  },
  {
   "cell_type": "code",
   "execution_count": 38,
   "metadata": {
    "collapsed": true
   },
   "outputs": [],
   "source": [
    "from scipy import stats"
   ]
  },
  {
   "cell_type": "markdown",
   "metadata": {},
   "source": [
    "\n",
    "## t-test: testando o valor de uma média de população\n",
    "> Scipy.stats.ttest_1samp ()\n",
    "Testes se a média da população de dados é provável que seja igual a um determinado valor (tecnicamente, se as observações são obtidas a partir de distribuições gaussianas de média de população dada). Retorna a estatística T e o valor p (veja a ajuda da função):"
   ]
  },
  {
   "cell_type": "markdown",
   "metadata": {},
   "source": [
    "<img src=\"http://www.scipy-lectures.org/_images/two_sided.png\"/>"
   ]
  },
  {
   "cell_type": "code",
   "execution_count": 39,
   "metadata": {
    "collapsed": false
   },
   "outputs": [
    {
     "data": {
      "text/plain": [
       "Ttest_1sampResult(statistic=30.088099970849328, pvalue=1.3289196468728067e-28)"
      ]
     },
     "execution_count": 39,
     "metadata": {},
     "output_type": "execute_result"
    }
   ],
   "source": [
    "stats.ttest_1samp(data['VIQ'], 0)"
   ]
  },
  {
   "cell_type": "markdown",
   "metadata": {},
   "source": [
    "Com um valor p de 10 ^ -28, podemos afirmar que a média da população para o QI (medida VIQ) não é 0."
   ]
  },
  {
   "cell_type": "markdown",
   "metadata": {},
   "source": [
    "## t-test: teste de diferença entre as populações\n"
   ]
  },
  {
   "cell_type": "markdown",
   "metadata": {},
   "source": [
    "Já vimos acima que o VIQ médio nas populações masculina e feminina era diferente. Para testar se isso é significativo, fazemos uma prova t de 2 amostras com scipy.stats.ttest_ind ():"
   ]
  },
  {
   "cell_type": "code",
   "execution_count": 43,
   "metadata": {
    "collapsed": false
   },
   "outputs": [
    {
     "data": {
      "text/plain": [
       "Ttest_indResult(statistic=-0.77261617232750113, pvalue=0.44452876778583217)"
      ]
     },
     "execution_count": 43,
     "metadata": {},
     "output_type": "execute_result"
    }
   ],
   "source": [
    "female_viq = data[data['Gender'] == 'Female']['VIQ']\n",
    "male_viq = data[data['Gender'] == 'Male']['VIQ']\n",
    "stats.ttest_ind(female_viq, male_viq)   "
   ]
  },
  {
   "cell_type": "markdown",
   "metadata": {},
   "source": [
    "## Testes emparelhados: medições repetidas nos mesmos indivíduos"
   ]
  },
  {
   "cell_type": "markdown",
   "metadata": {},
   "source": [
    "PIQ, VIQ e FSIQ dão 3 medidas de QI. Deixe-nos testar se FISQ e PIQ são significativamente diferentes. Podemos usar um teste de 2 amostras:\n",
    "<img src=\"http://www.scipy-lectures.org/_images/sphx_glr_plot_paired_boxplots_001.png\"/>"
   ]
  },
  {
   "cell_type": "code",
   "execution_count": 44,
   "metadata": {
    "collapsed": false
   },
   "outputs": [
    {
     "data": {
      "text/plain": [
       "Ttest_indResult(statistic=0.46563759638096403, pvalue=0.64277250094148408)"
      ]
     },
     "execution_count": 44,
     "metadata": {},
     "output_type": "execute_result"
    }
   ],
   "source": [
    "stats.ttest_ind(data['FSIQ'], data['PIQ'])  "
   ]
  },
  {
   "cell_type": "markdown",
   "metadata": {},
   "source": [
    "O problema com esta abordagem é que esquece que há links entre observações: FSIQ e PIQ são medidos nos mesmos indivíduos. Assim, a variação devido à variabilidade inter-assunto é confusa e pode ser removida, usando um \"teste pareado\" ou \"teste de medidas repetidas\":"
   ]
  },
  {
   "cell_type": "code",
   "execution_count": 45,
   "metadata": {
    "collapsed": false
   },
   "outputs": [
    {
     "data": {
      "text/plain": [
       "Ttest_relResult(statistic=1.7842019405859857, pvalue=0.082172638183642358)"
      ]
     },
     "execution_count": 45,
     "metadata": {},
     "output_type": "execute_result"
    }
   ],
   "source": [
    "stats.ttest_rel(data['FSIQ'], data['PIQ'])"
   ]
  },
  {
   "cell_type": "markdown",
   "metadata": {},
   "source": [
    "Isso equivale a um teste de 1 amostra na diferença:\n"
   ]
  },
  {
   "cell_type": "code",
   "execution_count": 46,
   "metadata": {
    "collapsed": false
   },
   "outputs": [
    {
     "data": {
      "text/plain": [
       "Ttest_1sampResult(statistic=1.7842019405859857, pvalue=0.082172638183642358)"
      ]
     },
     "execution_count": 46,
     "metadata": {},
     "output_type": "execute_result"
    }
   ],
   "source": [
    "stats.ttest_1samp(data['FSIQ'] - data['PIQ'], 0) "
   ]
  },
  {
   "cell_type": "markdown",
   "metadata": {},
   "source": [
    "<img src=\"http://www.scipy-lectures.org/_images/sphx_glr_plot_paired_boxplots_002.png\"/>"
   ]
  },
  {
   "cell_type": "markdown",
   "metadata": {},
   "source": [
    "> T-tests assumem erros gaussianos. Podemos usar um teste Wilcoxon de classificação assinada, que relaxa essa suposição:"
   ]
  },
  {
   "cell_type": "markdown",
   "metadata": {},
   "source": [
    "> Quando se dispõe de uma amostra pequena e a variável numérica não apresenta sabidamente uma\n",
    "variação normal (ou não dá para ser verificada satisfatoriamente), ou ainda, quando não há\n",
    "homogeneidade das variâncias (embora exista uma correção no teste t que considera as variâncias\n",
    "desiguais), o teste t não é apropriado.\n",
    "\n",
    "> O teste de Mann-Whitney (Wilcoxon rank-sum test) é\n",
    "indicado para comparação de dois grupos não pareados para se verificar se pertencem ou não à mesma\n",
    "população e cujos requisitos para aplicação do teste t de Student não foram cumpridos. Na verdade,\n",
    "verifica-se se há evidências para acreditar que valores de um grupo A são superiores aos valores do\n",
    "grupo B. O teste U pode ser considerado a versão não paramétrica do teste t, para amostras\n",
    "independentes. Ao contrário do teste t, que testa a igualdade das médias, o teste de Mann-Whitney (U)\n",
    "testa a igualdade das medianas. Os valores de U calculados pelo teste avaliam o grau de entrelaçamento\n",
    "dos dados dos dois grupos após a ordenação. A maior separação dos dados em conjunto indica que as\n",
    "amostras são distintas, rejeitando-se a hipótese de igualdade das medianas. \n"
   ]
  },
  {
   "cell_type": "markdown",
   "metadata": {},
   "source": [
    "* O teste de Wilcoxon pareado é utilizado para comparar se as medidas de posição de duas amostras são iguais no caso em que as amostras são dependentes.\n"
   ]
  },
  {
   "cell_type": "code",
   "execution_count": 47,
   "metadata": {
    "collapsed": false
   },
   "outputs": [
    {
     "data": {
      "text/plain": [
       "WilcoxonResult(statistic=274.5, pvalue=0.10659492713506856)"
      ]
     },
     "execution_count": 47,
     "metadata": {},
     "output_type": "execute_result"
    }
   ],
   "source": [
    "stats.wilcoxon(data['FSIQ'], data['PIQ'])"
   ]
  },
  {
   "cell_type": "code",
   "execution_count": 48,
   "metadata": {
    "collapsed": false
   },
   "outputs": [
    {
     "data": {
      "text/plain": [
       "MannwhitneyuResult(statistic=695.0, pvalue=0.15715813232063375)"
      ]
     },
     "execution_count": 48,
     "metadata": {},
     "output_type": "execute_result"
    }
   ],
   "source": [
    "stats.mannwhitneyu(data['FSIQ'], data['PIQ'])"
   ]
  },
  {
   "cell_type": "markdown",
   "metadata": {},
   "source": [
    "# Modelos lineares, múltiplos fatores e análise de variância"
   ]
  },
  {
   "cell_type": "markdown",
   "metadata": {},
   "source": [
    "## \"Fórmulas\" para especificar modelos estatísticos em Python"
   ]
  },
  {
   "cell_type": "markdown",
   "metadata": {},
   "source": [
    "### Uma regressão linear simples"
   ]
  },
  {
   "cell_type": "markdown",
   "metadata": {},
   "source": [
    "> Dado dois conjuntos de observações, x e y, queremos testar a hipótese de que y é uma função linear de x. Em outros termos:"
   ]
  },
  {
   "cell_type": "markdown",
   "metadata": {},
   "source": [
    "<img src=\"http://www.scipy-lectures.org/_images/math/bc58ea9036de1e62198871a091359876bff43a5b.png\"/>"
   ]
  },
  {
   "cell_type": "markdown",
   "metadata": {},
   "source": [
    "Onde 'e' é o ruído de observação. Usaremos o módulo statsmodels para:\n",
    "- Ajustar um modelo linear. Usaremos a estratégia mais simples, os mínimos quadrados ordinários (OLS).\n",
    "- Teste que coef não seja zero."
   ]
  },
  {
   "cell_type": "markdown",
   "metadata": {},
   "source": [
    "##### Primeiro, geramos dados simulados de acordo com o modelo:"
   ]
  },
  {
   "cell_type": "code",
   "execution_count": 49,
   "metadata": {
    "collapsed": true
   },
   "outputs": [],
   "source": [
    "import numpy as np\n",
    "x = np.linspace(-5, 5, 20)\n",
    "np.random.seed(1)\n",
    "# normal distributed noise\n",
    "y = -5 + 3*x + 4 * np.random.normal(size=x.shape)\n",
    "# Create a data frame containing all the relevant variables\n",
    "data = pandas.DataFrame({'x': x, 'y': y})"
   ]
  },
  {
   "cell_type": "code",
   "execution_count": 50,
   "metadata": {
    "collapsed": true
   },
   "outputs": [],
   "source": [
    "from statsmodels.formula.api import ols"
   ]
  },
  {
   "cell_type": "code",
   "execution_count": 52,
   "metadata": {
    "collapsed": true
   },
   "outputs": [],
   "source": [
    "model = ols(\"y ~ x\", data).fit()"
   ]
  },
  {
   "cell_type": "code",
   "execution_count": 53,
   "metadata": {
    "collapsed": false
   },
   "outputs": [
    {
     "data": {
      "text/html": [
       "<table class=\"simpletable\">\n",
       "<caption>OLS Regression Results</caption>\n",
       "<tr>\n",
       "  <th>Dep. Variable:</th>            <td>y</td>        <th>  R-squared:         </th> <td>   0.804</td>\n",
       "</tr>\n",
       "<tr>\n",
       "  <th>Model:</th>                   <td>OLS</td>       <th>  Adj. R-squared:    </th> <td>   0.794</td>\n",
       "</tr>\n",
       "<tr>\n",
       "  <th>Method:</th>             <td>Least Squares</td>  <th>  F-statistic:       </th> <td>   74.03</td>\n",
       "</tr>\n",
       "<tr>\n",
       "  <th>Date:</th>             <td>Thu, 22 Jun 2017</td> <th>  Prob (F-statistic):</th> <td>8.56e-08</td>\n",
       "</tr>\n",
       "<tr>\n",
       "  <th>Time:</th>                 <td>13:03:45</td>     <th>  Log-Likelihood:    </th> <td> -57.988</td>\n",
       "</tr>\n",
       "<tr>\n",
       "  <th>No. Observations:</th>      <td>    20</td>      <th>  AIC:               </th> <td>   120.0</td>\n",
       "</tr>\n",
       "<tr>\n",
       "  <th>Df Residuals:</th>          <td>    18</td>      <th>  BIC:               </th> <td>   122.0</td>\n",
       "</tr>\n",
       "<tr>\n",
       "  <th>Df Model:</th>              <td>     1</td>      <th>                     </th>     <td> </td>   \n",
       "</tr>\n",
       "<tr>\n",
       "  <th>Covariance Type:</th>      <td>nonrobust</td>    <th>                     </th>     <td> </td>   \n",
       "</tr>\n",
       "</table>\n",
       "<table class=\"simpletable\">\n",
       "<tr>\n",
       "      <td></td>         <th>coef</th>     <th>std err</th>      <th>t</th>      <th>P>|t|</th> <th>[95.0% Conf. Int.]</th> \n",
       "</tr>\n",
       "<tr>\n",
       "  <th>Intercept</th> <td>   -5.5335</td> <td>    1.036</td> <td>   -5.342</td> <td> 0.000</td> <td>   -7.710    -3.357</td>\n",
       "</tr>\n",
       "<tr>\n",
       "  <th>x</th>         <td>    2.9369</td> <td>    0.341</td> <td>    8.604</td> <td> 0.000</td> <td>    2.220     3.654</td>\n",
       "</tr>\n",
       "</table>\n",
       "<table class=\"simpletable\">\n",
       "<tr>\n",
       "  <th>Omnibus:</th>       <td> 0.100</td> <th>  Durbin-Watson:     </th> <td>   2.956</td>\n",
       "</tr>\n",
       "<tr>\n",
       "  <th>Prob(Omnibus):</th> <td> 0.951</td> <th>  Jarque-Bera (JB):  </th> <td>   0.322</td>\n",
       "</tr>\n",
       "<tr>\n",
       "  <th>Skew:</th>          <td>-0.058</td> <th>  Prob(JB):          </th> <td>   0.851</td>\n",
       "</tr>\n",
       "<tr>\n",
       "  <th>Kurtosis:</th>      <td> 2.390</td> <th>  Cond. No.          </th> <td>    3.03</td>\n",
       "</tr>\n",
       "</table>"
      ],
      "text/plain": [
       "<class 'statsmodels.iolib.summary.Summary'>\n",
       "\"\"\"\n",
       "                            OLS Regression Results                            \n",
       "==============================================================================\n",
       "Dep. Variable:                      y   R-squared:                       0.804\n",
       "Model:                            OLS   Adj. R-squared:                  0.794\n",
       "Method:                 Least Squares   F-statistic:                     74.03\n",
       "Date:                Thu, 22 Jun 2017   Prob (F-statistic):           8.56e-08\n",
       "Time:                        13:03:45   Log-Likelihood:                -57.988\n",
       "No. Observations:                  20   AIC:                             120.0\n",
       "Df Residuals:                      18   BIC:                             122.0\n",
       "Df Model:                           1                                         \n",
       "Covariance Type:            nonrobust                                         \n",
       "==============================================================================\n",
       "                 coef    std err          t      P>|t|      [95.0% Conf. Int.]\n",
       "------------------------------------------------------------------------------\n",
       "Intercept     -5.5335      1.036     -5.342      0.000        -7.710    -3.357\n",
       "x              2.9369      0.341      8.604      0.000         2.220     3.654\n",
       "==============================================================================\n",
       "Omnibus:                        0.100   Durbin-Watson:                   2.956\n",
       "Prob(Omnibus):                  0.951   Jarque-Bera (JB):                0.322\n",
       "Skew:                          -0.058   Prob(JB):                        0.851\n",
       "Kurtosis:                       2.390   Cond. No.                         3.03\n",
       "==============================================================================\n",
       "\n",
       "Warnings:\n",
       "[1] Standard Errors assume that the covariance matrix of the errors is correctly specified.\n",
       "\"\"\""
      ]
     },
     "execution_count": 53,
     "metadata": {},
     "output_type": "execute_result"
    }
   ],
   "source": [
    "model.summary()"
   ]
  },
  {
   "cell_type": "markdown",
   "metadata": {},
   "source": [
    "Statsmodels usa uma terminologia estatística: a variável y em statsmodels é chamada de \"endógena\", enquanto a variável x é chamada de exógeno.\n",
    "\n",
    "Para simplificar, y (endógeno) é o valor que você está tentando prever, enquanto que x (exógeno) representa os recursos que você está usando para fazer a predição."
   ]
  },
  {
   "cell_type": "markdown",
   "metadata": {},
   "source": [
    "###  Categorical variables: comparing groups or multiple categories\n"
   ]
  },
  {
   "cell_type": "markdown",
   "metadata": {},
   "source": [
    "- Podemos escrever uma comparação entre QI masculino e feminino usando um modelo linear:"
   ]
  },
  {
   "cell_type": "code",
   "execution_count": 57,
   "metadata": {
    "collapsed": false
   },
   "outputs": [],
   "source": [
    "data = pandas.read_csv('brain_size.csv', sep=';', na_values=\".\")\n",
    "model = ols(\"VIQ ~ Gender + 1\", data).fit()"
   ]
  },
  {
   "cell_type": "code",
   "execution_count": 58,
   "metadata": {
    "collapsed": false
   },
   "outputs": [
    {
     "data": {
      "text/html": [
       "<table class=\"simpletable\">\n",
       "<caption>OLS Regression Results</caption>\n",
       "<tr>\n",
       "  <th>Dep. Variable:</th>           <td>VIQ</td>       <th>  R-squared:         </th> <td>   0.015</td>\n",
       "</tr>\n",
       "<tr>\n",
       "  <th>Model:</th>                   <td>OLS</td>       <th>  Adj. R-squared:    </th> <td>  -0.010</td>\n",
       "</tr>\n",
       "<tr>\n",
       "  <th>Method:</th>             <td>Least Squares</td>  <th>  F-statistic:       </th> <td>  0.5969</td>\n",
       "</tr>\n",
       "<tr>\n",
       "  <th>Date:</th>             <td>Thu, 22 Jun 2017</td> <th>  Prob (F-statistic):</th>  <td> 0.445</td> \n",
       "</tr>\n",
       "<tr>\n",
       "  <th>Time:</th>                 <td>13:06:35</td>     <th>  Log-Likelihood:    </th> <td> -182.42</td>\n",
       "</tr>\n",
       "<tr>\n",
       "  <th>No. Observations:</th>      <td>    40</td>      <th>  AIC:               </th> <td>   368.8</td>\n",
       "</tr>\n",
       "<tr>\n",
       "  <th>Df Residuals:</th>          <td>    38</td>      <th>  BIC:               </th> <td>   372.2</td>\n",
       "</tr>\n",
       "<tr>\n",
       "  <th>Df Model:</th>              <td>     1</td>      <th>                     </th>     <td> </td>   \n",
       "</tr>\n",
       "<tr>\n",
       "  <th>Covariance Type:</th>      <td>nonrobust</td>    <th>                     </th>     <td> </td>   \n",
       "</tr>\n",
       "</table>\n",
       "<table class=\"simpletable\">\n",
       "<tr>\n",
       "         <td></td>           <th>coef</th>     <th>std err</th>      <th>t</th>      <th>P>|t|</th> <th>[95.0% Conf. Int.]</th> \n",
       "</tr>\n",
       "<tr>\n",
       "  <th>Intercept</th>      <td>  109.4500</td> <td>    5.308</td> <td>   20.619</td> <td> 0.000</td> <td>   98.704   120.196</td>\n",
       "</tr>\n",
       "<tr>\n",
       "  <th>Gender[T.Male]</th> <td>    5.8000</td> <td>    7.507</td> <td>    0.773</td> <td> 0.445</td> <td>   -9.397    20.997</td>\n",
       "</tr>\n",
       "</table>\n",
       "<table class=\"simpletable\">\n",
       "<tr>\n",
       "  <th>Omnibus:</th>       <td>26.188</td> <th>  Durbin-Watson:     </th> <td>   1.709</td>\n",
       "</tr>\n",
       "<tr>\n",
       "  <th>Prob(Omnibus):</th> <td> 0.000</td> <th>  Jarque-Bera (JB):  </th> <td>   3.703</td>\n",
       "</tr>\n",
       "<tr>\n",
       "  <th>Skew:</th>          <td> 0.010</td> <th>  Prob(JB):          </th> <td>   0.157</td>\n",
       "</tr>\n",
       "<tr>\n",
       "  <th>Kurtosis:</th>      <td> 1.510</td> <th>  Cond. No.          </th> <td>    2.62</td>\n",
       "</tr>\n",
       "</table>"
      ],
      "text/plain": [
       "<class 'statsmodels.iolib.summary.Summary'>\n",
       "\"\"\"\n",
       "                            OLS Regression Results                            \n",
       "==============================================================================\n",
       "Dep. Variable:                    VIQ   R-squared:                       0.015\n",
       "Model:                            OLS   Adj. R-squared:                 -0.010\n",
       "Method:                 Least Squares   F-statistic:                    0.5969\n",
       "Date:                Thu, 22 Jun 2017   Prob (F-statistic):              0.445\n",
       "Time:                        13:06:35   Log-Likelihood:                -182.42\n",
       "No. Observations:                  40   AIC:                             368.8\n",
       "Df Residuals:                      38   BIC:                             372.2\n",
       "Df Model:                           1                                         \n",
       "Covariance Type:            nonrobust                                         \n",
       "==================================================================================\n",
       "                     coef    std err          t      P>|t|      [95.0% Conf. Int.]\n",
       "----------------------------------------------------------------------------------\n",
       "Intercept        109.4500      5.308     20.619      0.000        98.704   120.196\n",
       "Gender[T.Male]     5.8000      7.507      0.773      0.445        -9.397    20.997\n",
       "==============================================================================\n",
       "Omnibus:                       26.188   Durbin-Watson:                   1.709\n",
       "Prob(Omnibus):                  0.000   Jarque-Bera (JB):                3.703\n",
       "Skew:                           0.010   Prob(JB):                        0.157\n",
       "Kurtosis:                       1.510   Cond. No.                         2.62\n",
       "==============================================================================\n",
       "\n",
       "Warnings:\n",
       "[1] Standard Errors assume that the covariance matrix of the errors is correctly specified.\n",
       "\"\"\""
      ]
     },
     "execution_count": 58,
     "metadata": {},
     "output_type": "execute_result"
    }
   ],
   "source": [
    "model.summary()"
   ]
  },
  {
   "cell_type": "markdown",
   "metadata": {},
   "source": [
    "### Link para testes t entre diferentes FSIQ e PIQ"
   ]
  },
  {
   "cell_type": "markdown",
   "metadata": {},
   "source": [
    "* Para comparar diferentes tipos de QI, precisamos criar uma tabela \"de forma longa\", listando QI, onde o tipo de QI é indicado por uma variável categórica:"
   ]
  },
  {
   "cell_type": "code",
   "execution_count": 64,
   "metadata": {
    "collapsed": false
   },
   "outputs": [
    {
     "data": {
      "text/html": [
       "<div>\n",
       "<table border=\"1\" class=\"dataframe\">\n",
       "  <thead>\n",
       "    <tr style=\"text-align: right;\">\n",
       "      <th></th>\n",
       "      <th>iq</th>\n",
       "      <th>type</th>\n",
       "    </tr>\n",
       "  </thead>\n",
       "  <tbody>\n",
       "    <tr>\n",
       "      <th>0</th>\n",
       "      <td>133</td>\n",
       "      <td>fsiq</td>\n",
       "    </tr>\n",
       "    <tr>\n",
       "      <th>1</th>\n",
       "      <td>140</td>\n",
       "      <td>fsiq</td>\n",
       "    </tr>\n",
       "    <tr>\n",
       "      <th>2</th>\n",
       "      <td>139</td>\n",
       "      <td>fsiq</td>\n",
       "    </tr>\n",
       "    <tr>\n",
       "      <th>3</th>\n",
       "      <td>133</td>\n",
       "      <td>fsiq</td>\n",
       "    </tr>\n",
       "    <tr>\n",
       "      <th>4</th>\n",
       "      <td>137</td>\n",
       "      <td>fsiq</td>\n",
       "    </tr>\n",
       "  </tbody>\n",
       "</table>\n",
       "</div>"
      ],
      "text/plain": [
       "    iq  type\n",
       "0  133  fsiq\n",
       "1  140  fsiq\n",
       "2  139  fsiq\n",
       "3  133  fsiq\n",
       "4  137  fsiq"
      ]
     },
     "execution_count": 64,
     "metadata": {},
     "output_type": "execute_result"
    }
   ],
   "source": [
    "data_fisq = pandas.DataFrame({'iq': data['FSIQ'], 'type': 'fsiq'})\n",
    "data_piq = pandas.DataFrame({'iq': data['PIQ'], 'type': 'piq'})\n",
    "data_long = pandas.concat((data_fisq, data_piq))\n",
    "data_long.head(5)"
   ]
  },
  {
   "cell_type": "code",
   "execution_count": 65,
   "metadata": {
    "collapsed": true
   },
   "outputs": [],
   "source": [
    "model = ols(\"iq ~ type\", data_long).fit()"
   ]
  },
  {
   "cell_type": "code",
   "execution_count": 66,
   "metadata": {
    "collapsed": false
   },
   "outputs": [
    {
     "data": {
      "text/html": [
       "<table class=\"simpletable\">\n",
       "<caption>OLS Regression Results</caption>\n",
       "<tr>\n",
       "  <th>Dep. Variable:</th>           <td>iq</td>        <th>  R-squared:         </th> <td>   0.003</td>\n",
       "</tr>\n",
       "<tr>\n",
       "  <th>Model:</th>                   <td>OLS</td>       <th>  Adj. R-squared:    </th> <td>  -0.010</td>\n",
       "</tr>\n",
       "<tr>\n",
       "  <th>Method:</th>             <td>Least Squares</td>  <th>  F-statistic:       </th> <td>  0.2168</td>\n",
       "</tr>\n",
       "<tr>\n",
       "  <th>Date:</th>             <td>Thu, 22 Jun 2017</td> <th>  Prob (F-statistic):</th>  <td> 0.643</td> \n",
       "</tr>\n",
       "<tr>\n",
       "  <th>Time:</th>                 <td>13:09:29</td>     <th>  Log-Likelihood:    </th> <td> -364.35</td>\n",
       "</tr>\n",
       "<tr>\n",
       "  <th>No. Observations:</th>      <td>    80</td>      <th>  AIC:               </th> <td>   732.7</td>\n",
       "</tr>\n",
       "<tr>\n",
       "  <th>Df Residuals:</th>          <td>    78</td>      <th>  BIC:               </th> <td>   737.5</td>\n",
       "</tr>\n",
       "<tr>\n",
       "  <th>Df Model:</th>              <td>     1</td>      <th>                     </th>     <td> </td>   \n",
       "</tr>\n",
       "<tr>\n",
       "  <th>Covariance Type:</th>      <td>nonrobust</td>    <th>                     </th>     <td> </td>   \n",
       "</tr>\n",
       "</table>\n",
       "<table class=\"simpletable\">\n",
       "<tr>\n",
       "       <td></td>          <th>coef</th>     <th>std err</th>      <th>t</th>      <th>P>|t|</th> <th>[95.0% Conf. Int.]</th> \n",
       "</tr>\n",
       "<tr>\n",
       "  <th>Intercept</th>   <td>  113.4500</td> <td>    3.683</td> <td>   30.807</td> <td> 0.000</td> <td>  106.119   120.781</td>\n",
       "</tr>\n",
       "<tr>\n",
       "  <th>type[T.piq]</th> <td>   -2.4250</td> <td>    5.208</td> <td>   -0.466</td> <td> 0.643</td> <td>  -12.793     7.943</td>\n",
       "</tr>\n",
       "</table>\n",
       "<table class=\"simpletable\">\n",
       "<tr>\n",
       "  <th>Omnibus:</th>       <td>164.598</td> <th>  Durbin-Watson:     </th> <td>   1.531</td>\n",
       "</tr>\n",
       "<tr>\n",
       "  <th>Prob(Omnibus):</th> <td> 0.000</td>  <th>  Jarque-Bera (JB):  </th> <td>   8.062</td>\n",
       "</tr>\n",
       "<tr>\n",
       "  <th>Skew:</th>          <td>-0.110</td>  <th>  Prob(JB):          </th> <td>  0.0178</td>\n",
       "</tr>\n",
       "<tr>\n",
       "  <th>Kurtosis:</th>      <td> 1.461</td>  <th>  Cond. No.          </th> <td>    2.62</td>\n",
       "</tr>\n",
       "</table>"
      ],
      "text/plain": [
       "<class 'statsmodels.iolib.summary.Summary'>\n",
       "\"\"\"\n",
       "                            OLS Regression Results                            \n",
       "==============================================================================\n",
       "Dep. Variable:                     iq   R-squared:                       0.003\n",
       "Model:                            OLS   Adj. R-squared:                 -0.010\n",
       "Method:                 Least Squares   F-statistic:                    0.2168\n",
       "Date:                Thu, 22 Jun 2017   Prob (F-statistic):              0.643\n",
       "Time:                        13:09:29   Log-Likelihood:                -364.35\n",
       "No. Observations:                  80   AIC:                             732.7\n",
       "Df Residuals:                      78   BIC:                             737.5\n",
       "Df Model:                           1                                         \n",
       "Covariance Type:            nonrobust                                         \n",
       "===============================================================================\n",
       "                  coef    std err          t      P>|t|      [95.0% Conf. Int.]\n",
       "-------------------------------------------------------------------------------\n",
       "Intercept     113.4500      3.683     30.807      0.000       106.119   120.781\n",
       "type[T.piq]    -2.4250      5.208     -0.466      0.643       -12.793     7.943\n",
       "==============================================================================\n",
       "Omnibus:                      164.598   Durbin-Watson:                   1.531\n",
       "Prob(Omnibus):                  0.000   Jarque-Bera (JB):                8.062\n",
       "Skew:                          -0.110   Prob(JB):                       0.0178\n",
       "Kurtosis:                       1.461   Cond. No.                         2.62\n",
       "==============================================================================\n",
       "\n",
       "Warnings:\n",
       "[1] Standard Errors assume that the covariance matrix of the errors is correctly specified.\n",
       "\"\"\""
      ]
     },
     "execution_count": 66,
     "metadata": {},
     "output_type": "execute_result"
    }
   ],
   "source": [
    "model.summary()"
   ]
  },
  {
   "cell_type": "markdown",
   "metadata": {},
   "source": [
    "Podemos ver que recuperamos os mesmos valores para o teste t e os valores p correspondentes para o efeito do tipo de iq do que a prova t anterior:"
   ]
  },
  {
   "cell_type": "code",
   "execution_count": 67,
   "metadata": {
    "collapsed": false
   },
   "outputs": [
    {
     "data": {
      "text/plain": [
       "Ttest_indResult(statistic=0.46563759638096403, pvalue=0.64277250094148408)"
      ]
     },
     "execution_count": 67,
     "metadata": {},
     "output_type": "execute_result"
    }
   ],
   "source": [
    "stats.ttest_ind(data['FSIQ'], data['PIQ'])"
   ]
  },
  {
   "cell_type": "markdown",
   "metadata": {},
   "source": [
    "### Regressão múltipla: incluindo múltiplos fatores"
   ]
  },
  {
   "cell_type": "markdown",
   "metadata": {},
   "source": [
    "Considere um modelo linear explicando uma variável z (a variável dependente) com 2 variáveis x e y:\n",
    "\n",
    "Esse modelo pode ser visto em 3D como um plano para uma nuvem de pontos (x, y, z)"
   ]
  },
  {
   "cell_type": "markdown",
   "metadata": {},
   "source": [
    "<img src=\"http://www.scipy-lectures.org/_images/sphx_glr_plot_regression_3d_001.png\"/>"
   ]
  },
  {
   "cell_type": "code",
   "execution_count": 68,
   "metadata": {
    "collapsed": false
   },
   "outputs": [
    {
     "data": {
      "text/html": [
       "<table class=\"simpletable\">\n",
       "<caption>OLS Regression Results</caption>\n",
       "<tr>\n",
       "  <th>Dep. Variable:</th>       <td>sepal_width</td>   <th>  R-squared:         </th> <td>   0.478</td>\n",
       "</tr>\n",
       "<tr>\n",
       "  <th>Model:</th>                   <td>OLS</td>       <th>  Adj. R-squared:    </th> <td>   0.468</td>\n",
       "</tr>\n",
       "<tr>\n",
       "  <th>Method:</th>             <td>Least Squares</td>  <th>  F-statistic:       </th> <td>   44.63</td>\n",
       "</tr>\n",
       "<tr>\n",
       "  <th>Date:</th>             <td>Thu, 22 Jun 2017</td> <th>  Prob (F-statistic):</th> <td>1.58e-20</td>\n",
       "</tr>\n",
       "<tr>\n",
       "  <th>Time:</th>                 <td>13:13:18</td>     <th>  Log-Likelihood:    </th> <td> -38.185</td>\n",
       "</tr>\n",
       "<tr>\n",
       "  <th>No. Observations:</th>      <td>   150</td>      <th>  AIC:               </th> <td>   84.37</td>\n",
       "</tr>\n",
       "<tr>\n",
       "  <th>Df Residuals:</th>          <td>   146</td>      <th>  BIC:               </th> <td>   96.41</td>\n",
       "</tr>\n",
       "<tr>\n",
       "  <th>Df Model:</th>              <td>     3</td>      <th>                     </th>     <td> </td>   \n",
       "</tr>\n",
       "<tr>\n",
       "  <th>Covariance Type:</th>      <td>nonrobust</td>    <th>                     </th>     <td> </td>   \n",
       "</tr>\n",
       "</table>\n",
       "<table class=\"simpletable\">\n",
       "<tr>\n",
       "           <td></td>             <th>coef</th>     <th>std err</th>      <th>t</th>      <th>P>|t|</th> <th>[95.0% Conf. Int.]</th> \n",
       "</tr>\n",
       "<tr>\n",
       "  <th>Intercept</th>          <td>    2.9813</td> <td>    0.099</td> <td>   29.989</td> <td> 0.000</td> <td>    2.785     3.178</td>\n",
       "</tr>\n",
       "<tr>\n",
       "  <th>name[T.versicolor]</th> <td>   -1.4821</td> <td>    0.181</td> <td>   -8.190</td> <td> 0.000</td> <td>   -1.840    -1.124</td>\n",
       "</tr>\n",
       "<tr>\n",
       "  <th>name[T.virginica]</th>  <td>   -1.6635</td> <td>    0.256</td> <td>   -6.502</td> <td> 0.000</td> <td>   -2.169    -1.158</td>\n",
       "</tr>\n",
       "<tr>\n",
       "  <th>petal_length</th>       <td>    0.2983</td> <td>    0.061</td> <td>    4.920</td> <td> 0.000</td> <td>    0.178     0.418</td>\n",
       "</tr>\n",
       "</table>\n",
       "<table class=\"simpletable\">\n",
       "<tr>\n",
       "  <th>Omnibus:</th>       <td> 2.868</td> <th>  Durbin-Watson:     </th> <td>   1.753</td>\n",
       "</tr>\n",
       "<tr>\n",
       "  <th>Prob(Omnibus):</th> <td> 0.238</td> <th>  Jarque-Bera (JB):  </th> <td>   2.885</td>\n",
       "</tr>\n",
       "<tr>\n",
       "  <th>Skew:</th>          <td>-0.082</td> <th>  Prob(JB):          </th> <td>   0.236</td>\n",
       "</tr>\n",
       "<tr>\n",
       "  <th>Kurtosis:</th>      <td> 3.659</td> <th>  Cond. No.          </th> <td>    54.0</td>\n",
       "</tr>\n",
       "</table>"
      ],
      "text/plain": [
       "<class 'statsmodels.iolib.summary.Summary'>\n",
       "\"\"\"\n",
       "                            OLS Regression Results                            \n",
       "==============================================================================\n",
       "Dep. Variable:            sepal_width   R-squared:                       0.478\n",
       "Model:                            OLS   Adj. R-squared:                  0.468\n",
       "Method:                 Least Squares   F-statistic:                     44.63\n",
       "Date:                Thu, 22 Jun 2017   Prob (F-statistic):           1.58e-20\n",
       "Time:                        13:13:18   Log-Likelihood:                -38.185\n",
       "No. Observations:                 150   AIC:                             84.37\n",
       "Df Residuals:                     146   BIC:                             96.41\n",
       "Df Model:                           3                                         \n",
       "Covariance Type:            nonrobust                                         \n",
       "======================================================================================\n",
       "                         coef    std err          t      P>|t|      [95.0% Conf. Int.]\n",
       "--------------------------------------------------------------------------------------\n",
       "Intercept              2.9813      0.099     29.989      0.000         2.785     3.178\n",
       "name[T.versicolor]    -1.4821      0.181     -8.190      0.000        -1.840    -1.124\n",
       "name[T.virginica]     -1.6635      0.256     -6.502      0.000        -2.169    -1.158\n",
       "petal_length           0.2983      0.061      4.920      0.000         0.178     0.418\n",
       "==============================================================================\n",
       "Omnibus:                        2.868   Durbin-Watson:                   1.753\n",
       "Prob(Omnibus):                  0.238   Jarque-Bera (JB):                2.885\n",
       "Skew:                          -0.082   Prob(JB):                        0.236\n",
       "Kurtosis:                       3.659   Cond. No.                         54.0\n",
       "==============================================================================\n",
       "\n",
       "Warnings:\n",
       "[1] Standard Errors assume that the covariance matrix of the errors is correctly specified.\n",
       "\"\"\""
      ]
     },
     "execution_count": 68,
     "metadata": {},
     "output_type": "execute_result"
    }
   ],
   "source": [
    "data = pandas.read_csv('iris.csv')\n",
    "model = ols('sepal_width ~ name + petal_length', data).fit()\n",
    "model.summary()"
   ]
  },
  {
   "cell_type": "markdown",
   "metadata": {},
   "source": [
    "### Teste de hipóteses pós-hoc: análise de variância (ANOVA)"
   ]
  },
  {
   "cell_type": "markdown",
   "metadata": {},
   "source": [
    "No exemplo da íris acima, desejamos testar se o comprimento da pétala é diferente entre versicolor e virginica, depois de remover o efeito da largura sepal. Isso pode ser formulado como testando a diferença entre o coeficiente associado a versicolor e virginica no modelo linear estimado acima (é uma Análise de Variância, ANOVA). Para isso, escrevemos um vetor de \"contraste\" nos parâmetros estimados: queremos testar \"nome [T.versicolor] - nome [T.virginica]\", com um teste F:"
   ]
  },
  {
   "cell_type": "code",
   "execution_count": 69,
   "metadata": {
    "collapsed": false
   },
   "outputs": [
    {
     "data": {
      "text/plain": [
       "<class 'statsmodels.stats.contrast.ContrastResults'>\n",
       "<F test: F=array([[ 3.24533535]]), p=0.07369058781701113, df_denom=146, df_num=1>"
      ]
     },
     "execution_count": 69,
     "metadata": {},
     "output_type": "execute_result"
    }
   ],
   "source": [
    "model.f_test([0, 1, -1, 0])"
   ]
  },
  {
   "cell_type": "markdown",
   "metadata": {},
   "source": [
    "### Mais visualização: seaborn para exploração estatística"
   ]
  },
  {
   "cell_type": "markdown",
   "metadata": {},
   "source": [
    "* EDUCATION: Number of years of education.\n",
    "* SOUTH: Indicator variable for Southern Region (1=Person lives in \t\tSouth, 0=Person lives elsewhere).\n",
    "* SEX: Indicator variable for sex (1=Female, 0=Male).\n",
    "* EXPERIENCE: Number of years of work experience.\n",
    "* UNION: Indicator variable for union membership (1=Union member, \t\t0=Not union member).\n",
    "* WAGE: Wage (dollars per hour).\n",
    "* AGE: Age (years).\n",
    "* RACE: Race (1=Other, 2=Hispanic, 3=White).\n",
    "* OCCUPATION: Occupational category (1=Management, \t\t2=Sales, 3=Clerical, 4=Service, 5=Professional, 6=Other).\n",
    "* SECTOR: Sector (0=Other, 1=Manufacturing, 2=Construction).\n",
    "* MARR: Marital Status (0=Unmarried,  1=Married)"
   ]
  },
  {
   "cell_type": "code",
   "execution_count": 74,
   "metadata": {
    "collapsed": false
   },
   "outputs": [],
   "source": [
    "wage = pandas.read_csv(\"wage.csv\",sep=\";\")"
   ]
  },
  {
   "cell_type": "code",
   "execution_count": 75,
   "metadata": {
    "collapsed": false
   },
   "outputs": [
    {
     "data": {
      "text/html": [
       "<div>\n",
       "<table border=\"1\" class=\"dataframe\">\n",
       "  <thead>\n",
       "    <tr style=\"text-align: right;\">\n",
       "      <th></th>\n",
       "      <th>EDUCATION</th>\n",
       "      <th>SOUTH</th>\n",
       "      <th>SEX</th>\n",
       "      <th>EXPERIENCE</th>\n",
       "      <th>UNION</th>\n",
       "      <th>WAGE</th>\n",
       "      <th>AGE</th>\n",
       "      <th>RACE</th>\n",
       "      <th>OCCUPATION</th>\n",
       "      <th>SECTOR</th>\n",
       "      <th>MARR</th>\n",
       "    </tr>\n",
       "  </thead>\n",
       "  <tbody>\n",
       "    <tr>\n",
       "      <th>0</th>\n",
       "      <td>8</td>\n",
       "      <td>0</td>\n",
       "      <td>1</td>\n",
       "      <td>21</td>\n",
       "      <td>0</td>\n",
       "      <td>5.10</td>\n",
       "      <td>35</td>\n",
       "      <td>2</td>\n",
       "      <td>6</td>\n",
       "      <td>1</td>\n",
       "      <td>1</td>\n",
       "    </tr>\n",
       "    <tr>\n",
       "      <th>1</th>\n",
       "      <td>9</td>\n",
       "      <td>0</td>\n",
       "      <td>1</td>\n",
       "      <td>42</td>\n",
       "      <td>0</td>\n",
       "      <td>4.95</td>\n",
       "      <td>57</td>\n",
       "      <td>3</td>\n",
       "      <td>6</td>\n",
       "      <td>1</td>\n",
       "      <td>1</td>\n",
       "    </tr>\n",
       "  </tbody>\n",
       "</table>\n",
       "</div>"
      ],
      "text/plain": [
       "   EDUCATION  SOUTH  SEX  EXPERIENCE  UNION  WAGE  AGE  RACE  OCCUPATION  \\\n",
       "0          8      0    1          21      0  5.10   35     2           6   \n",
       "1          9      0    1          42      0  4.95   57     3           6   \n",
       "\n",
       "   SECTOR  MARR  \n",
       "0       1     1  \n",
       "1       1     1  "
      ]
     },
     "execution_count": 75,
     "metadata": {},
     "output_type": "execute_result"
    }
   ],
   "source": [
    "wage.head(2)"
   ]
  },
  {
   "cell_type": "code",
   "execution_count": 76,
   "metadata": {
    "collapsed": true
   },
   "outputs": [],
   "source": [
    "import seaborn"
   ]
  },
  {
   "cell_type": "code",
   "execution_count": 78,
   "metadata": {
    "collapsed": false
   },
   "outputs": [
    {
     "data": {
      "text/plain": [
       "<seaborn.axisgrid.PairGrid at 0x117371f60>"
      ]
     },
     "execution_count": 78,
     "metadata": {},
     "output_type": "execute_result"
    },
    {
     "data": {
      "image/png": "[encoded data removed]",
      "text/plain": [
       "<matplotlib.figure.Figure at 0x117371dd8>"
      ]
     },
     "metadata": {},
     "output_type": "display_data"
    }
   ],
   "source": [
    "seaborn.pairplot(wage, vars=['WAGE', 'AGE', 'EDUCATION'], kind='reg')"
   ]
  },
  {
   "cell_type": "code",
   "execution_count": 79,
   "metadata": {
    "collapsed": false
   },
   "outputs": [
    {
     "data": {
      "text/plain": [
       "<seaborn.axisgrid.PairGrid at 0x117d54160>"
      ]
     },
     "execution_count": 79,
     "metadata": {},
     "output_type": "execute_result"
    },
    {
     "data": {
      "image/png": "[encoded data removed]",
      "text/plain": [
       "<matplotlib.figure.Figure at 0x117d542e8>"
      ]
     },
     "metadata": {},
     "output_type": "display_data"
    }
   ],
   "source": [
    "seaborn.pairplot(wage, vars=['WAGE', 'AGE', 'EDUCATION'], kind='reg', hue='SEX')"
   ]
  },
  {
   "cell_type": "markdown",
   "metadata": {},
   "source": [
    "### Lmplot: planejando uma regressão univariada"
   ]
  },
  {
   "cell_type": "code",
   "execution_count": 80,
   "metadata": {
    "collapsed": false
   },
   "outputs": [
    {
     "data": {
      "text/plain": [
       "<seaborn.axisgrid.FacetGrid at 0x1197ef518>"
      ]
     },
     "execution_count": 80,
     "metadata": {},
     "output_type": "execute_result"
    },
    {
     "data": {
      "image/png": "[encoded data removed]",
      "text/plain": [
       "<matplotlib.figure.Figure at 0x1197ef0f0>"
      ]
     },
     "metadata": {},
     "output_type": "display_data"
    }
   ],
   "source": [
    "seaborn.lmplot(y='WAGE', x='EDUCATION', data=wage)  "
   ]
  },
  {
   "cell_type": "markdown",
   "metadata": {},
   "source": [
    "- Regressão robusta\n",
    "\n",
    "Dado que, no gráfico acima, parece haver alguns pontos de dados que estão fora da nuvem principal à direita, eles podem ser outliers, não representativos da população, mas dirigindo a regressão.\n",
    "Para calcular uma regressão que é menos sensível a outliers, é preciso usar um modelo robusto. Isso é feito em seaborn usando robust = True nas funções de plotagem, ou em statsmodels, substituindo o uso do OLS por um \"Modelo linear robusto\", statsmodels.formula.api.rlm ()."
   ]
  },
  {
   "cell_type": "code",
   "execution_count": 81,
   "metadata": {
    "collapsed": false
   },
   "outputs": [
    {
     "data": {
      "text/plain": [
       "<seaborn.axisgrid.FacetGrid at 0x1198005f8>"
      ]
     },
     "execution_count": 81,
     "metadata": {},
     "output_type": "execute_result"
    },
    {
     "data": {
      "image/png": "[encoded data removed]",
      "text/plain": [
       "<matplotlib.figure.Figure at 0x1198005c0>"
      ]
     },
     "metadata": {},
     "output_type": "display_data"
    }
   ],
   "source": [
    "seaborn.lmplot(y='WAGE', x='EDUCATION', data=wage,robust = True)  "
   ]
  },
  {
   "cell_type": "code",
   "execution_count": 82,
   "metadata": {
    "collapsed": true
   },
   "outputs": [],
   "source": [
    "from statsmodels.formula.api import rlm"
   ]
  },
  {
   "cell_type": "code",
   "execution_count": 84,
   "metadata": {
    "collapsed": false
   },
   "outputs": [],
   "source": [
    "model = rlm(\"WAGE ~ EDUCATION\", wage).fit()"
   ]
  },
  {
   "cell_type": "code",
   "execution_count": 85,
   "metadata": {
    "collapsed": false
   },
   "outputs": [
    {
     "data": {
      "text/html": [
       "<table class=\"simpletable\">\n",
       "<caption>Robust linear Model Regression Results</caption>\n",
       "<tr>\n",
       "  <th>Dep. Variable:</th>        <td>WAGE</td>       <th>  No. Observations:  </th> <td>   534</td>\n",
       "</tr>\n",
       "<tr>\n",
       "  <th>Model:</th>                 <td>RLM</td>       <th>  Df Residuals:      </th> <td>   532</td>\n",
       "</tr>\n",
       "<tr>\n",
       "  <th>Method:</th>               <td>IRLS</td>       <th>  Df Model:          </th> <td>     1</td>\n",
       "</tr>\n",
       "<tr>\n",
       "  <th>Norm:</th>                <td>HuberT</td>      <th>                     </th>    <td> </td>  \n",
       "</tr>\n",
       "<tr>\n",
       "  <th>Scale Est.:</th>            <td>mad</td>       <th>                     </th>    <td> </td>  \n",
       "</tr>\n",
       "<tr>\n",
       "  <th>Cov Type:</th>              <td>H1</td>        <th>                     </th>    <td> </td>  \n",
       "</tr>\n",
       "<tr>\n",
       "  <th>Date:</th>           <td>Thu, 22 Jun 2017</td> <th>                     </th>    <td> </td>  \n",
       "</tr>\n",
       "<tr>\n",
       "  <th>Time:</th>               <td>13:31:07</td>     <th>                     </th>    <td> </td>  \n",
       "</tr>\n",
       "<tr>\n",
       "  <th>No. Iterations:</th>        <td>18</td>        <th>                     </th>    <td> </td>  \n",
       "</tr>\n",
       "</table>\n",
       "<table class=\"simpletable\">\n",
       "<tr>\n",
       "      <td></td>         <th>coef</th>     <th>std err</th>      <th>z</th>      <th>P>|z|</th> <th>[95.0% Conf. Int.]</th> \n",
       "</tr>\n",
       "<tr>\n",
       "  <th>Intercept</th> <td>    0.2165</td> <td>    0.890</td> <td>    0.243</td> <td> 0.808</td> <td>   -1.527     1.960</td>\n",
       "</tr>\n",
       "<tr>\n",
       "  <th>EDUCATION</th> <td>    0.6377</td> <td>    0.067</td> <td>    9.518</td> <td> 0.000</td> <td>    0.506     0.769</td>\n",
       "</tr>\n",
       "</table>"
      ],
      "text/plain": [
       "<class 'statsmodels.iolib.summary.Summary'>\n",
       "\"\"\"\n",
       "                    Robust linear Model Regression Results                    \n",
       "==============================================================================\n",
       "Dep. Variable:                   WAGE   No. Observations:                  534\n",
       "Model:                            RLM   Df Residuals:                      532\n",
       "Method:                          IRLS   Df Model:                            1\n",
       "Norm:                          HuberT                                         \n",
       "Scale Est.:                       mad                                         \n",
       "Cov Type:                          H1                                         \n",
       "Date:                Thu, 22 Jun 2017                                         \n",
       "Time:                        13:31:07                                         \n",
       "No. Iterations:                    18                                         \n",
       "==============================================================================\n",
       "                 coef    std err          z      P>|z|      [95.0% Conf. Int.]\n",
       "------------------------------------------------------------------------------\n",
       "Intercept      0.2165      0.890      0.243      0.808        -1.527     1.960\n",
       "EDUCATION      0.6377      0.067      9.518      0.000         0.506     0.769\n",
       "==============================================================================\n",
       "\n",
       "If the model instance has been used for another fit with different fit\n",
       "parameters, then the fit options might not be the correct ones anymore .\n",
       "\"\"\""
      ]
     },
     "execution_count": 85,
     "metadata": {},
     "output_type": "execute_result"
    }
   ],
   "source": [
    "model.summary()"
   ]
  },
  {
   "cell_type": "markdown",
   "metadata": {},
   "source": [
    "### Teste de interações"
   ]
  },
  {
   "cell_type": "markdown",
   "metadata": {},
   "source": [
    "<img src=\"http://www.scipy-lectures.org/_images/sphx_glr_plot_wage_education_gender_001.png\"/>"
   ]
  },
  {
   "cell_type": "markdown",
   "metadata": {},
   "source": [
    "* Os salários aumentam mais com a educação para homens do que para mulheres?\n",
    "  O gráfico acima é feito de dois ajustes diferentes. \n",
    "  \n",
    "  Precisamos formular um modelo único que teste uma variância de declive em toda a população. Isso é feito através de uma \"interação\"."
   ]
  },
  {
   "cell_type": "code",
   "execution_count": 99,
   "metadata": {
    "collapsed": false
   },
   "outputs": [
    {
     "name": "stdout",
     "output_type": "stream",
     "text": [
      "<class 'pandas.core.frame.DataFrame'>\n",
      "RangeIndex: 534 entries, 0 to 533\n",
      "Data columns (total 11 columns):\n",
      "EDUCATION     534 non-null int64\n",
      "SOUTH         534 non-null int64\n",
      "SEX           534 non-null int64\n",
      "EXPERIENCE    534 non-null int64\n",
      "UNION         534 non-null int64\n",
      "WAGE          534 non-null float64\n",
      "AGE           534 non-null int64\n",
      "RACE          534 non-null int64\n",
      "OCCUPATION    534 non-null int64\n",
      "SECTOR        534 non-null int64\n",
      "MARR          534 non-null int64\n",
      "dtypes: float64(1), int64(10)\n",
      "memory usage: 46.0 KB\n"
     ]
    }
   ],
   "source": [
    "wage.info()\n"
   ]
  },
  {
   "cell_type": "code",
   "execution_count": 107,
   "metadata": {
    "collapsed": false
   },
   "outputs": [],
   "source": [
    "#result = ols(formula='wage ~ EDUCATION + gender + EDUCATION * gender', data=wage).fit()    \n",
    "#result.summary()  "
   ]
  },
  {
   "cell_type": "markdown",
   "metadata": {},
   "source": [
    "Podemos concluir que a educação beneficia mais os homens do que as mulheres?\n",
    "\n"
   ]
  },
  {
   "cell_type": "markdown",
   "metadata": {},
   "source": [
    "- Testes de hipóteses e p-valor lhe dão o significado de um efeito / diferença\n",
    "- As fórmulas (com variáveis categóricas) permitem expressar links ricos em seus dados\n",
    "- A visualização de seus dados e o modelo simples se encaixam nas questões!\n",
    "- Acondicionamento (fatores de adição que podem explicar a totalidade ou parte da variação) é um aspecto de modelagem importante que altera a interpretação."
   ]
  },
  {
   "cell_type": "code",
   "execution_count": null,
   "metadata": {
    "collapsed": true
   },
   "outputs": [],
   "source": []
  }
 ],
 "metadata": {
  "kernelspec": {
   "display_name": "Python 3",
   "language": "python",
   "name": "python3"
  },
  "language_info": {
   "codemirror_mode": {
    "name": "ipython",
    "version": 3
   },
   "file_extension": ".py",
   "mimetype": "text/x-python",
   "name": "python",
   "nbconvert_exporter": "python",
   "pygments_lexer": "ipython3",
   "version": "3.6.0"
  }
 },
 "nbformat": 4,
 "nbformat_minor": 2
}
