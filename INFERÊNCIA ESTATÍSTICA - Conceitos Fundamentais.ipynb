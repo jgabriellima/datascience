{
 "cells": [
  {
   "cell_type": "markdown",
   "metadata": {},
   "source": [
    "# Estimadores\n",
    "====================================================================================================================="
   ]
  },
  {
   "cell_type": "markdown",
   "metadata": {},
   "source": [
    "A inferência estatística tem por objetivo extrair informações sobre uma população a partir de dados amostrais. Neste contexto, uma das etapas principais da obtenção dessas informações é a estimação dos parâmetros"
   ]
  },
  {
   "cell_type": "markdown",
   "metadata": {},
   "source": [
    "## Estimadores de Momentos\n"
   ]
  },
  {
   "cell_type": "markdown",
   "metadata": {},
   "source": [
    "## Estimadores de Mínimos Quadrados"
   ]
  },
  {
   "cell_type": "markdown",
   "metadata": {},
   "source": [
    "## Estimadores de Máxima Verossimilhança"
   ]
  },
  {
   "cell_type": "markdown",
   "metadata": {},
   "source": [
    "# Intervalo de confiança\n",
    "====================================================================================================================="
   ]
  },
  {
   "cell_type": "markdown",
   "metadata": {},
   "source": [
    "## Intervalo de confiança para média\n"
   ]
  },
  {
   "cell_type": "markdown",
   "metadata": {},
   "source": [
    "## Intervalo de confiança para proporção\n"
   ]
  },
  {
   "cell_type": "markdown",
   "metadata": {},
   "source": [
    "## Intervalo de confiança para taxa"
   ]
  },
  {
   "cell_type": "markdown",
   "metadata": {},
   "source": [
    "## Intervalo de confiança para variância"
   ]
  },
  {
   "cell_type": "markdown",
   "metadata": {},
   "source": [
    "## Intervalo de confiança para razão entre duas "
   ]
  },
  {
   "cell_type": "markdown",
   "metadata": {},
   "source": [
    "#  Testes de hipóteses\n",
    "====================================================================================================================="
   ]
  },
  {
   "cell_type": "markdown",
   "metadata": {},
   "source": [
    "## Testes Paramétricos\n",
    "\n",
    "Os testes paramétricos assumem que a distribuição de probabilidade da população no qual retiramos os dados seja conhecida e que somente os valores de certos parâmetros, tais como a média e o desvio padrão, sejam desconhecidos.\n",
    "\n",
    "1) Coeficiente de Pearson para Correlação\n",
    "\n",
    "2) Teste-t 1 Amostra\n",
    "\n",
    "3) Teste-t Pareado\n",
    "\n",
    "4) Teste-t 2 Amostras\n",
    "\n",
    "5) ANOVA\n",
    "\n",
    "6) ANOVA experimento fatorial em blocos"
   ]
  },
  {
   "cell_type": "markdown",
   "metadata": {},
   "source": [
    "### Teste para média (teste t)\n",
    "\n",
    "> Talvez o teste de hipótese mais conhecido, o teste t de Student pode ser utilizado para avaliar se há diferença significativa entre as médias de duas amostras. Sua simplicidade e a fácil implementação em softwares o tornou tão popular, mas por outro lado também tornou comum o seu uso de maneira incorreta.\n",
    "\n",
    "> ** O que eu preciso para poder usar o teste t? **\n",
    "\n",
    "> Essa é uma pergunta que você como estudante, pesquisador ou analista sempre deve fazer ao utilizar qualquer ferramenta matemática: \n",
    "> ** “Quais são as suposições para aplicar a ferramenta? Quais as hipóteses?”  No caso do teste de hipótese, quais a suposições acerca dos dados eu devo conferir antes de realizá-lo? **\n",
    "\n",
    "> Feita a pergunta, seguem as suposições a serem verificadas para realizar o teste t em duas amostras independentes:\n",
    "\n",
    "> ** As duas amostras devem ter distribuição normal.** Pode-se verificar utilizando o teste de Shapiro Wilk ou observando os dados dispostos em um qqplot.\n",
    "\n",
    "> ** As duas amostras devem ter mesma variância. **  Pode-se verificar observando o desvio padrão amostral das duas amostras ou utilizando um teste F de igualdade de variâncias.\n",
    "\n",
    "> ** As duas amostras devem ser independentes. ** Depende de como o experimento foi delineado. Note que apenas calcular a correlação entre as duas amostras pode não ser suficiente. É preciso saber como os dados foram coletados.\n",
    "Caso tenha apenas uma amostra, a única suposição é que tenha distribuição normal.\n",
    "\n"
   ]
  },
  {
   "cell_type": "markdown",
   "metadata": {},
   "source": [
    "### ANOVA\n",
    "\n",
    "Assim como o teste t, a ANOVA possui algumas restrições para ser usada que são listadas abaixo.\n",
    "\n",
    "** Os resíduos (observação menos a média) devem ser normais ou próximos da normalidade. ***\n",
    "\n",
    "** As variâncias de cada amostra devem ser iguais.** Caso não seja, é possível padronizar dividindo pela variância amostral de forma a obter variância igual a um em todos os grupos.\n",
    "\n",
    "** As amostras devem ser independentes.**\n"
   ]
  },
  {
   "cell_type": "code",
   "execution_count": null,
   "metadata": {
    "collapsed": true
   },
   "outputs": [],
   "source": []
  },
  {
   "cell_type": "markdown",
   "metadata": {},
   "source": [
    "### Teste para comparação de duas variâncias (Teste F)"
   ]
  },
  {
   "cell_type": "markdown",
   "metadata": {},
   "source": [
    "## Testes não paramétricos\n",
    "\n",
    "Se os dados não satisfazem as suposições assumidas pelas técnicas tradicionais, métodos não paramétricos de inferência estatística devem usados. As técnicas não paramétricas assumem pouca ou nenhuma hipótese sobre a distribuição de probabilidade da população no qual retiramos os dados.\n",
    "\n",
    "1) Coeficiente de Spearman para Correlação\n",
    "\n",
    "2) Teste de Wilcoxon 1 Amostra\n",
    "\n",
    "3) Teste de Wilcoxon Pareado\n",
    "\n",
    "4) Teste de Wilcoxon-Mann-Whitney Amostras Independentes\n",
    "\n",
    "5) Teste de Kruskal-Wallis\n",
    "\n",
    "6) Teste de Friedman\n",
    "\n"
   ]
  },
  {
   "cell_type": "code",
   "execution_count": null,
   "metadata": {
    "collapsed": true
   },
   "outputs": [],
   "source": []
  },
  {
   "cell_type": "markdown",
   "metadata": {},
   "source": [
    "# Testes de normalidade\n",
    "=====================================================================================================================\n",
    "\n",
    "são usados para determinar se um conjunto de dados de uma dada variável aleatória, é bem modelada por uma distribuição normal ou não, ou para calcular a probabilidade da variável aleatória subjacente estar normalmente distribuída.\n",
    "\n",
    "Mais precisamente, os testes são uma forma de selecção de modelos, e podem ser interpretados de várias maneiras, dependendo de como cada um interpreta as probabilidades\n",
    "\n",
    "A distribuição Normal é exigida em muitas situações pelas suas boas propriedades matemáticas e por isso é tão utilizada em probabilidade e estatística, como no teste t e na ANOVA. No entanto, é comum vermos a utilização de ferramentas estatísticas de testes de hipótese sem verificar primeiramente se a distribuição é Normal."
   ]
  },
  {
   "cell_type": "markdown",
   "metadata": {},
   "source": [
    "## Teste de Shapiro-Wilk\n",
    "\n",
    "O teste de normalidade Shapiro-Wilk é reputadivelmente mais adequado aos conjuntos de dados menores.\n"
   ]
  },
  {
   "cell_type": "markdown",
   "metadata": {},
   "source": [
    "## Teste de Kolmogorov-Smirnov\n",
    "\n",
    "O teste de Kolmogorov-Smirnov pode ser aplicado de forma mais ampla que o Shapiro, uma vez que está comparando duas distribuições entre si, e não necessariamente uma distrição a uma normal. Esses testes podem ser unilaterais ou ambos, mas o último só se aplica se ambas as distribuições forem contínuas."
   ]
  },
  {
   "cell_type": "markdown",
   "metadata": {},
   "source": [
    "## Teste de Anderson-Darling\n",
    "\n",
    "O teste de Anderson é derivado de Kolmogorov e é usado de forma semelhante para testar a hipótese nula de que os dados são amostrados de uma população que segue uma distribuição específica."
   ]
  },
  {
   "cell_type": "markdown",
   "metadata": {},
   "source": [
    "## Teste de Ryan-Joiner"
   ]
  },
  {
   "cell_type": "code",
   "execution_count": null,
   "metadata": {
    "collapsed": true
   },
   "outputs": [],
   "source": []
  }
 ],
 "metadata": {
  "kernelspec": {
   "display_name": "Python 3",
   "language": "python",
   "name": "python3"
  },
  "language_info": {
   "codemirror_mode": {
    "name": "ipython",
    "version": 3
   },
   "file_extension": ".py",
   "mimetype": "text/x-python",
   "name": "python",
   "nbconvert_exporter": "python",
   "pygments_lexer": "ipython3",
   "version": "3.6.0"
  }
 },
 "nbformat": 4,
 "nbformat_minor": 2
}
