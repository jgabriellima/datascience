{
 "cells": [
  {
   "cell_type": "markdown",
   "metadata": {},
   "source": [
    "# Parameter Estimation By Optimization"
   ]
  },
  {
   "cell_type": "markdown",
   "metadata": {},
   "source": [
    "Com que frequência obtemos rebatedores?"
   ]
  },
  {
   "cell_type": "markdown",
   "metadata": {},
   "source": [
    "O número de jogos jogados entre cada não-lançador na era moderna (1901-2015) da Major League Baseball é armazenado no array nohitter_times.\n",
    "\n",
    "Se você assumir que os no-hitters são descritos como um processo de Poisson, então o tempo entre não-hitters é distribuído exponencialmente. Como você viu, a distribuição Exponencial tem um único parâmetro, que chamaremos de ττ, o tempo de intervalo típico. O valor do parâmetro ττ que faz com que a distribuição exponencial corresponda melhor aos dados é o tempo médio do intervalo (onde o tempo está em unidades de número de jogos) entre não-bateadores.\n",
    "\n",
    "Calcule o valor desse parâmetro a partir dos dados. Em seguida, use np.random.exponential () para \"repetir\" o histórico da Major League Baseball desenhando tempos inter-no-hitter a partir de uma distribuição exponencial com o ττ que você encontrou e traçar o histograma como uma aproximação ao PDF.\n",
    "\n",
    "NumPy, pandas, matlotlib.pyplot e seaborn foram importados para você como np, pd, plt e sns, respectivamente."
   ]
  },
  {
   "cell_type": "code",
   "execution_count": 2,
   "metadata": {
    "collapsed": true
   },
   "outputs": [],
   "source": [
    "#libraries \n",
    "import pandas as pd\n",
    "import numpy as np\n",
    "import matplotlib.pyplot as plt\n",
    "import seaborn as sns\n",
    "sns.set(color_codes=True)\n",
    "sns.set_style('whitegrid')\n",
    "%matplotlib inline\n",
    "import warnings\n",
    "warnings.filterwarnings('ignore')"
   ]
  },
  {
   "cell_type": "markdown",
   "metadata": {},
   "source": [
    "Instruções\n",
    "Sempre o gerador de números aleatórios com 42.\n",
    "Calcule o tempo médio (em unidades de número de jogos) entre não-bateadores.\n",
    "Desenhe 100.000 amostras de uma distribuição exponencial com o parâmetro que você calculou a partir da média dos tempos inter-no-hitter.\n",
    "Trace o PDF teórico usando plt.hist (). Lembre-se de usar argumentos de palavras-chave bins = 50, normed = True e histtype = 'step'. Certifique-se de rotular seus eixos.\n",
    "Mostre sua trama."
   ]
  },
  {
   "cell_type": "code",
   "execution_count": 5,
   "metadata": {
    "collapsed": false
   },
   "outputs": [
    {
     "ename": "NameError",
     "evalue": "name 'nohitter_times' is not defined",
     "output_type": "error",
     "traceback": [
      "\u001b[0;31m---------------------------------------------------------------------------\u001b[0m",
      "\u001b[0;31mNameError\u001b[0m                                 Traceback (most recent call last)",
      "\u001b[0;32m<ipython-input-5-884c2837c6a6>\u001b[0m in \u001b[0;36m<module>\u001b[0;34m()\u001b[0m\n\u001b[1;32m      3\u001b[0m \u001b[0;34m\u001b[0m\u001b[0m\n\u001b[1;32m      4\u001b[0m \u001b[0;31m# Compute mean no-hitter time: tau\u001b[0m\u001b[0;34m\u001b[0m\u001b[0;34m\u001b[0m\u001b[0m\n\u001b[0;32m----> 5\u001b[0;31m \u001b[0mtau\u001b[0m \u001b[0;34m=\u001b[0m \u001b[0mnp\u001b[0m\u001b[0;34m.\u001b[0m\u001b[0mmean\u001b[0m\u001b[0;34m(\u001b[0m\u001b[0mnohitter_times\u001b[0m\u001b[0;34m)\u001b[0m\u001b[0;34m\u001b[0m\u001b[0m\n\u001b[0m\u001b[1;32m      6\u001b[0m \u001b[0;34m\u001b[0m\u001b[0m\n\u001b[1;32m      7\u001b[0m \u001b[0;31m# Draw out of an exponential distribution with parameter tau: inter_nohitter_time\u001b[0m\u001b[0;34m\u001b[0m\u001b[0;34m\u001b[0m\u001b[0m\n",
      "\u001b[0;31mNameError\u001b[0m: name 'nohitter_times' is not defined"
     ]
    }
   ],
   "source": [
    "    # Seed random number generator\n",
    "    np.random.seed(42)\n",
    "\n",
    "    # Compute mean no-hitter time: tau\n",
    "    tau = np.mean(nohitter_times)\n",
    "\n",
    "    # Draw out of an exponential distribution with parameter tau: inter_nohitter_time\n",
    "    inter_nohitter_time = np.random.exponential(tau, 100000)\n",
    "\n",
    "    # Plot the PDF and label axes\n",
    "    _ = plt.hist(inter_nohitter_time,\n",
    "                 bins=50, normed=True, histtype='step')\n",
    "    _ = plt.xlabel('Games between no-hitters')\n",
    "    _ = plt.ylabel('PDF')\n",
    "\n",
    "    # Show the plot\n",
    "    plt.show()\n"
   ]
  },
  {
   "cell_type": "code",
   "execution_count": null,
   "metadata": {
    "collapsed": true
   },
   "outputs": [],
   "source": []
  }
 ],
 "metadata": {
  "kernelspec": {
   "display_name": "Python 3",
   "language": "python",
   "name": "python3"
  },
  "language_info": {
   "codemirror_mode": {
    "name": "ipython",
    "version": 3
   },
   "file_extension": ".py",
   "mimetype": "text/x-python",
   "name": "python",
   "nbconvert_exporter": "python",
   "pygments_lexer": "ipython3",
   "version": "3.6.0"
  }
 },
 "nbformat": 4,
 "nbformat_minor": 2
}
